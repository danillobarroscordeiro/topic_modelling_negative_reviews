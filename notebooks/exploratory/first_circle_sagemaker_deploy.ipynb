{
 "cells": [
  {
   "cell_type": "code",
   "execution_count": 2,
   "metadata": {},
   "outputs": [
    {
     "name": "stdout",
     "output_type": "stream",
     "text": [
      "sagemaker.config INFO - Not applying SDK defaults from location: /etc/xdg/sagemaker/config.yaml\n",
      "sagemaker.config INFO - Not applying SDK defaults from location: /home/dbcordeiro@sefaz.al.gov.br/.config/sagemaker/config.yaml\n"
     ]
    }
   ],
   "source": [
    "import pandas as pd\n",
    "import os\n",
    "import numpy as np\n",
    "pd.set_option('display.max_colwidth', None)\n",
    "import boto3\n",
    "import swifter\n",
    "from umap import UMAP\n",
    "from hdbscan import HDBSCAN\n",
    "from bertopic import BERTopic\n",
    "from sklearn.feature_extraction.text import CountVectorizer\n",
    "from sentence_transformers import SentenceTransformer\n",
    "from bertopic.representation import MaximalMarginalRelevance\n",
    "import spacy\n",
    "from sklearn.metrics.pairwise import cosine_similarity\n",
    "from awswrangler import config, s3\n",
    "from sagemaker import get_execution_role, Session\n",
    "from sagemaker.estimator import Estimator\n",
    "from sagemaker.inputs import TrainingInput\n",
    "from textblob import TextBlob\n",
    "from sklearn.preprocessing import normalize\n",
    "from sagemaker.model import Model\n",
    "import io\n",
    "import re\n",
    "import json"
   ]
  },
  {
   "cell_type": "code",
   "execution_count": 3,
   "metadata": {},
   "outputs": [],
   "source": [
    "SESSION: str = boto3.Session(profile_name=\"dbcordeiro_projects\", region_name=\"us-east-1\")\n",
    "\n",
    "RUNTIME_CLIENT: str = boto3.client('runtime.sagemaker')\n",
    "\n",
    "SAGEMAKER_SESSION: str = Session(boto_session=SESSION)\n",
    "\n",
    "role: str = \"arn:aws:iam::513734873949:role/service-role/AmazonSageMaker-ExecutionRole-20240209T185677\"\n",
    "\n",
    "image_uri: str = \"513734873949.dkr.ecr.us-east-1.amazonaws.com/topic_modelling_reviews_model:latest\"\n",
    "image_uri_inference: str = \"513734873949.dkr.ecr.us-east-1.amazonaws.com/topic_modelling_reviews_deploy:latest\"\n",
    "\n",
    "S3_BUCKET: str = \"s3://topic-modelling-reviews\"\n",
    "SAVE_DATA_S3_PATH: str = f\"{S3_BUCKET}/data/test_model\""
   ]
  },
  {
   "cell_type": "code",
   "execution_count": 5,
   "metadata": {},
   "outputs": [
    {
     "data": {
      "application/vnd.jupyter.widget-view+json": {
       "model_id": "d373ad21ecd847fbb9f865e721cc156f",
       "version_major": 2,
       "version_minor": 0
      },
      "text/plain": [
       "Pandas Apply:   0%|          | 0/6763024 [00:00<?, ?it/s]"
      ]
     },
     "metadata": {},
     "output_type": "display_data"
    },
    {
     "data": {
      "application/vnd.jupyter.widget-view+json": {
       "model_id": "83a8b37caeb1453a9438bb1528693017",
       "version_major": 2,
       "version_minor": 0
      },
      "text/plain": [
       "Pandas Apply:   0%|          | 0/150000 [00:00<?, ?it/s]"
      ]
     },
     "metadata": {},
     "output_type": "display_data"
    }
   ],
   "source": [
    "df = pd.read_parquet('../data/df_after_lang_detect.parquet')\n",
    "\n",
    "df = df[df['language'] != 'ERROR']\n",
    "df['title_text_review'] = df['title_text_review'].apply(lambda x: re.sub(r'[^\\x00-\\x7F]+', '', x))\n",
    "df['text_length'] = df['title_text_review'].swifter.apply(lambda x: len(x))\n",
    "df = df[df['text_length'] > 20]\n",
    "df = df[df['language'] == 'en']\n",
    "df = df.sample(150000, random_state=42)\n",
    "df['review_sentiment'] = df['title_text_review'].swifter.apply(lambda x: TextBlob(x).sentiment.polarity)\n",
    "df = df[df['review_sentiment'] < -.3]\n",
    "df.drop(columns=['text_length', 'language', 'review_sentiment', 'parent_asin'], inplace=True)\n",
    "\n",
    "\n",
    "sentence_model = SentenceTransformer(\"all-MiniLM-L6-v2\")\n",
    "embeddings = sentence_model.encode(df['title_text_review'].to_list())\n",
    "embeddings = normalize(embeddings, 'l2', axis=1)\n",
    "\n",
    "df['embeddings'] = list(embeddings)"
   ]
  },
  {
   "cell_type": "code",
   "execution_count": 15,
   "metadata": {},
   "outputs": [
    {
     "data": {
      "text/plain": [
       "{'paths': ['s3://topic-modelling-reviews/data/test_model/test_model_reviews_cbbc577098404d20a4a859886c9974ac.snappy.parquet'],\n",
       " 'partitions_values': {}}"
      ]
     },
     "execution_count": 15,
     "metadata": {},
     "output_type": "execute_result"
    }
   ],
   "source": [
    "s3.to_parquet(\n",
    "    df=df,\n",
    "    path=SAVE_DATA_S3_PATH,\n",
    "    dataset=True,\n",
    "    filename_prefix=\"test_model_reviews_\",\n",
    "    mode=\"overwrite\",\n",
    "    boto3_session=SESSION\n",
    ")"
   ]
  },
  {
   "cell_type": "code",
   "execution_count": 16,
   "metadata": {},
   "outputs": [],
   "source": [
    "train_input = TrainingInput(\n",
    "    \"s3://topic-modelling-reviews/data/test_model/\",\n",
    "    content_type=\"application/x-parquet\"\n",
    ")"
   ]
  },
  {
   "cell_type": "code",
   "execution_count": null,
   "metadata": {},
   "outputs": [],
   "source": [
    "estimator = Estimator(\n",
    "    image_uri=image_uri,\n",
    "    role=role,\n",
    "    instance_count=1,\n",
    "    instance_type=\"ml.c5.2xlarge\",\n",
    "    sagemaker_session=SAGEMAKER_SESSION,\n",
    "    base_job_name=\"model\"\n",
    ")\n",
    "\n",
    "estimator.fit({'training': train_input})"
   ]
  },
  {
   "cell_type": "code",
   "execution_count": 15,
   "metadata": {},
   "outputs": [
    {
     "name": "stderr",
     "output_type": "stream",
     "text": [
      "Using already existing model: inference-model\n"
     ]
    },
    {
     "name": "stdout",
     "output_type": "stream",
     "text": [
      "------!"
     ]
    }
   ],
   "source": [
    "model = Model(\n",
    "    image_uri=image_uri_inference,\n",
    "    model_data=\"s3://sagemaker-us-east-1-513734873949/model-2024-07-10-16-55-21-398/output/model.tar.gz\",\n",
    "    role=role,\n",
    "    name='inference-model',\n",
    "    source_dir='../model_deploy_test',\n",
    "    entry_point='inference.py',\n",
    "    sagemaker_session=SAGEMAKER_SESSION\n",
    ")\n",
    "\n",
    "predictor = model.deploy(\n",
    "    initial_instance_count=1,\n",
    "    instance_type=\"ml.c5.large\",\n",
    "    endpoint_name=\"topic-modelling-reviews-endpoint-test\"\n",
    ")"
   ]
  },
  {
   "cell_type": "code",
   "execution_count": 9,
   "metadata": {},
   "outputs": [
    {
     "name": "stdout",
     "output_type": "stream",
     "text": [
      "Predicted Topics: garmin\n",
      "wrong garmin\n",
      "nt buy alternate\n",
      "probably overall annoying\n",
      "prime viberates sadly\n",
      "poorly fails needs\n",
      "probably unfortunately wasted\n",
      "outdated buy use\n",
      "nt cloudy tortuously\n",
      "pocketfinder instead annual\n"
     ]
    }
   ],
   "source": [
    "endpoint_name = 'topic-modelling-reviews-endpoint-test'\n",
    "test = df.iloc[42,1]\n",
    "\n",
    "# Serialize the input data to a byte array\n",
    "input_data = io.BytesIO()\n",
    "np.save(input_data, test)\n",
    "input_data.seek(0)\n",
    "\n",
    "# Invoke the endpoint\n",
    "response = RUNTIME_CLIENT.invoke_endpoint(\n",
    "    EndpointName=endpoint_name,\n",
    "    ContentType='application/x-npy',\n",
    "    Body=input_data.read()\n",
    ")\n",
    "\n",
    "# Parse the response\n",
    "result = json.loads(response['Body'].read().decode())\n",
    "print(\"Predicted Topics:\", result)"
   ]
  },
  {
   "cell_type": "code",
   "execution_count": 14,
   "metadata": {},
   "outputs": [],
   "source": [
    "SAGEMAKER_SESSION.delete_endpoint(\"topic-modelling-reviews-endpoint-test\")"
   ]
  }
 ],
 "metadata": {
  "kernelspec": {
   "display_name": "topic_modelling_reviews",
   "language": "python",
   "name": "python3"
  },
  "language_info": {
   "codemirror_mode": {
    "name": "ipython",
    "version": 3
   },
   "file_extension": ".py",
   "mimetype": "text/x-python",
   "name": "python",
   "nbconvert_exporter": "python",
   "pygments_lexer": "ipython3",
   "version": "3.10.0"
  }
 },
 "nbformat": 4,
 "nbformat_minor": 2
}

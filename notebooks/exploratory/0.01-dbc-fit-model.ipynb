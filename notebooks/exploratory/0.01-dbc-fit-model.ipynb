{
 "cells": [
  {
   "cell_type": "markdown",
   "metadata": {},
   "source": [
    "# Libraries and helper functions"
   ]
  },
  {
   "cell_type": "code",
   "execution_count": 1,
   "metadata": {},
   "outputs": [],
   "source": [
    "import pandas as pd\n",
    "import os\n",
    "import numpy as np\n",
    "pd.set_option('display.max_colwidth', None)\n",
    "from collections import OrderedDict\n",
    "from awswrangler import s3\n",
    "from textblob import TextBlob\n",
    "from scipy.spatial.distance import cdist\n",
    "import boto3\n",
    "import swifter\n",
    "import langdetect\n",
    "import seaborn as sns\n",
    "import re\n",
    "import pickle\n",
    "from umap import UMAP\n",
    "from hdbscan import HDBSCAN\n",
    "from bertopic import BERTopic\n",
    "from sklearn.feature_extraction.text import CountVectorizer\n",
    "from collections import Counter\n",
    "from sentence_transformers import SentenceTransformer\n",
    "from bertopic.representation import MaximalMarginalRelevance\n",
    "import spacy\n",
    "from sklearn.metrics.pairwise import cosine_similarity\n",
    "from sklearn.preprocessing import normalize\n",
    "#!python -m spacy download en_core_web_sm\n",
    "from awswrangler import config\n",
    "from collections import defaultdict\n",
    "\n",
    "\n",
    "\n",
    "session = boto3.Session(profile_name=\"dbcordeiro_projects\", region_name=\"us-east-1\")\n",
    "config.session = session\n",
    "\n",
    "s3 = session.client(\"s3\")\n",
    "\n",
    "def data_description(df):\n",
    "    print('Variables:\\n\\n{}'.format(df.dtypes), end='\\n\\n')\n",
    "    print('Number of rows {}'.format(df.shape[0]), end='\\n\\n')\n",
    "    print('Number of columns {}'.format(df.shape[1]), end='\\n\\n')\n",
    "    print('NA analysis'.format(end='\\n'))\n",
    "    for i in df.columns:\n",
    "        print('column {}: {} {}'.format(i,df[i].isna().any(), df[i].isna().sum()))\n",
    "\n",
    "def reduce_mem_usage(df, verbose=True):\n",
    "    numerics = ['int16', 'int32', 'int64', 'float16', 'float32', 'float64']\n",
    "    start_mem = df.memory_usage().sum() / 1024**2    \n",
    "    for col in df.columns:\n",
    "        col_type = df[col].dtypes\n",
    "        if col_type in numerics:\n",
    "            c_min = df[col].min()\n",
    "            c_max = df[col].max()\n",
    "            if str(col_type)[:3] == 'int':\n",
    "                if c_min > np.iinfo(np.int8).min and c_max < np.iinfo(np.int8).max:\n",
    "                    df[col] = df[col].astype(np.int8)\n",
    "                elif c_min > np.iinfo(np.int16).min and c_max < np.iinfo(np.int16).max:\n",
    "                    df[col] = df[col].astype(np.int16)\n",
    "                elif c_min > np.iinfo(np.int32).min and c_max < np.iinfo(np.int32).max:\n",
    "                    df[col] = df[col].astype(np.int32)\n",
    "                elif c_min > np.iinfo(np.int64).min and c_max < np.iinfo(np.int64).max:\n",
    "                    df[col] = df[col].astype(np.int64)  \n",
    "            else:\n",
    "                if c_min > np.finfo(np.float16).min and c_max < np.finfo(np.float16).max:\n",
    "                    df[col] = df[col].astype(np.float16)\n",
    "                elif c_min > np.finfo(np.float32).min and c_max < np.finfo(np.float32).max:\n",
    "                    df[col] = df[col].astype(np.float32)\n",
    "                else:\n",
    "                    df[col] = df[col].astype(np.float64)    \n",
    "    end_mem = df.memory_usage().sum() / 1024**2\n",
    "    if verbose: print('Mem. usage decreased to {:5.2f} Mb ({:.1f}% reduction)'.format(end_mem, 100 * (start_mem - end_mem) / start_mem))\n",
    "    return df\n",
    "\n",
    "def get_language(text):\n",
    "    try:\n",
    "        return langdetect.detect(text)\n",
    "    except KeyboardInterrupt as e:\n",
    "        raise e\n",
    "    except:\n",
    "        return 'ERROR'\n"
   ]
  },
  {
   "cell_type": "markdown",
   "metadata": {},
   "source": [
    "# Reading Data"
   ]
  },
  {
   "cell_type": "code",
   "execution_count": 2,
   "metadata": {},
   "outputs": [],
   "source": [
    "df = pd.read_parquet(\"s3://topic-modelling-reviews/filtered_reviews_dataset/train_reviews.parquet\")"
   ]
  },
  {
   "cell_type": "code",
   "execution_count": 3,
   "metadata": {},
   "outputs": [
    {
     "name": "stdout",
     "output_type": "stream",
     "text": [
      "Mem. usage decreased to 154.82 Mb (0.0% reduction)\n"
     ]
    }
   ],
   "source": [
    "df = reduce_mem_usage(df)"
   ]
  },
  {
   "cell_type": "markdown",
   "metadata": {},
   "source": [
    "# Data Description"
   ]
  },
  {
   "cell_type": "code",
   "execution_count": 4,
   "metadata": {},
   "outputs": [
    {
     "name": "stdout",
     "output_type": "stream",
     "text": [
      "Variables:\n",
      "\n",
      "title          string[python]\n",
      "text           string[python]\n",
      "parent_asin    string[python]\n",
      "dtype: object\n",
      "\n",
      "Number of rows 6764067\n",
      "\n",
      "Number of columns 3\n",
      "\n",
      "NA analysis\n",
      "column title: False 0\n",
      "column text: False 0\n",
      "column parent_asin: False 0\n"
     ]
    }
   ],
   "source": [
    "data_description(df)"
   ]
  },
  {
   "cell_type": "markdown",
   "metadata": {},
   "source": [
    "It seems that there is no NAs, however one can check that some reviews and title reviews has NAs strings without any information like None, N/A, na, nah, etc. \n",
    "\n",
    "It could occurs in just the title, just in text or in both. Rows with NAs in both title and text will be removed. It is really small subset of data (< 1k)"
   ]
  },
  {
   "cell_type": "code",
   "execution_count": 4,
   "metadata": {},
   "outputs": [],
   "source": [
    "df_nas = df[\n",
    "    (df['title'].isin(['na', 'NA', 'nah', 'NAH', 'n/a', 'N/A', 'None', 'none', 'no', 'NONE', 'NO'])) \n",
    "    & (df['text'].isin(['na', 'NA', 'nah', 'NAH', 'n/a', 'N/A', 'None', 'none', 'no', 'NONE', 'NO']))\n",
    "]\n",
    "\n",
    "df = df.drop(df_nas.index)"
   ]
  },
  {
   "cell_type": "markdown",
   "metadata": {},
   "source": [
    "Merge the title and text as one text as title could also provide information about review"
   ]
  },
  {
   "cell_type": "code",
   "execution_count": null,
   "metadata": {},
   "outputs": [],
   "source": [
    "df['title_text_review'] = df[['title', 'text']].swifter.apply(\n",
    "    lambda x: x['title'] +  '. ' + x['text'], axis=1\n",
    ")\n",
    "df = df.drop(['title', 'text'], axis=1)"
   ]
  },
  {
   "cell_type": "markdown",
   "metadata": {},
   "source": [
    "Check language distribution and translate all of them to english. dataset after lang detect will be saved since it takes a few hours to process."
   ]
  },
  {
   "cell_type": "code",
   "execution_count": 2,
   "metadata": {},
   "outputs": [],
   "source": [
    "# df['language'] = df['title_text_review'].swifter.apply(get_language)\n",
    "# df.to_parquet('../data/df_after_lang_detect.parquet')d\n",
    "df = pd.read_parquet('../../data/interim/df_after_lang_detect.parquet')"
   ]
  },
  {
   "cell_type": "markdown",
   "metadata": {},
   "source": [
    "Reviews and titles with emoji will be excluded since that is no possibility of translation. Also, reviews with less than 20 characters will be removed"
   ]
  },
  {
   "cell_type": "code",
   "execution_count": 7,
   "metadata": {},
   "outputs": [
    {
     "data": {
      "text/html": [
       "<div>\n",
       "<style scoped>\n",
       "    .dataframe tbody tr th:only-of-type {\n",
       "        vertical-align: middle;\n",
       "    }\n",
       "\n",
       "    .dataframe tbody tr th {\n",
       "        vertical-align: top;\n",
       "    }\n",
       "\n",
       "    .dataframe thead th {\n",
       "        text-align: right;\n",
       "    }\n",
       "</style>\n",
       "<table border=\"1\" class=\"dataframe\">\n",
       "  <thead>\n",
       "    <tr style=\"text-align: right;\">\n",
       "      <th></th>\n",
       "      <th>parent_asin</th>\n",
       "      <th>title_text_review</th>\n",
       "      <th>language</th>\n",
       "    </tr>\n",
       "  </thead>\n",
       "  <tbody>\n",
       "    <tr>\n",
       "      <th>15226</th>\n",
       "      <td>B0935ZDCYD</td>\n",
       "      <td>🤔. 🤔</td>\n",
       "      <td>ERROR</td>\n",
       "    </tr>\n",
       "    <tr>\n",
       "      <th>17369</th>\n",
       "      <td>B00I3LHEGQ</td>\n",
       "      <td>----------------. -----------------------</td>\n",
       "      <td>ERROR</td>\n",
       "    </tr>\n",
       "    <tr>\n",
       "      <th>27618</th>\n",
       "      <td>B07PYFFWTS</td>\n",
       "      <td>☹️. ☹️</td>\n",
       "      <td>ERROR</td>\n",
       "    </tr>\n",
       "    <tr>\n",
       "      <th>35282</th>\n",
       "      <td>B076HRZJ66</td>\n",
       "      <td>1. 1</td>\n",
       "      <td>ERROR</td>\n",
       "    </tr>\n",
       "    <tr>\n",
       "      <th>43983</th>\n",
       "      <td>B08FHMR3MH</td>\n",
       "      <td>👎. 👎</td>\n",
       "      <td>ERROR</td>\n",
       "    </tr>\n",
       "    <tr>\n",
       "      <th>...</th>\n",
       "      <td>...</td>\n",
       "      <td>...</td>\n",
       "      <td>...</td>\n",
       "    </tr>\n",
       "    <tr>\n",
       "      <th>6726779</th>\n",
       "      <td>B07SPJ5SHK</td>\n",
       "      <td>👎. 👎</td>\n",
       "      <td>ERROR</td>\n",
       "    </tr>\n",
       "    <tr>\n",
       "      <th>6746492</th>\n",
       "      <td>B07CJV6PBJ</td>\n",
       "      <td>🤔. 🙄</td>\n",
       "      <td>ERROR</td>\n",
       "    </tr>\n",
       "    <tr>\n",
       "      <th>6754149</th>\n",
       "      <td>B097TBJYZR</td>\n",
       "      <td>👎🏽. 👎🏽</td>\n",
       "      <td>ERROR</td>\n",
       "    </tr>\n",
       "    <tr>\n",
       "      <th>6761902</th>\n",
       "      <td>B07QY4T41S</td>\n",
       "      <td>6/10. 6/10</td>\n",
       "      <td>ERROR</td>\n",
       "    </tr>\n",
       "    <tr>\n",
       "      <th>6762683</th>\n",
       "      <td>B00VF4OKXI</td>\n",
       "      <td>👍. 👍</td>\n",
       "      <td>ERROR</td>\n",
       "    </tr>\n",
       "  </tbody>\n",
       "</table>\n",
       "<p>722 rows × 3 columns</p>\n",
       "</div>"
      ],
      "text/plain": [
       "        parent_asin                          title_text_review language\n",
       "15226    B0935ZDCYD                                       🤔. 🤔    ERROR\n",
       "17369    B00I3LHEGQ  ----------------. -----------------------    ERROR\n",
       "27618    B07PYFFWTS                                     ☹️. ☹️    ERROR\n",
       "35282    B076HRZJ66                                       1. 1    ERROR\n",
       "43983    B08FHMR3MH                                       👎. 👎    ERROR\n",
       "...             ...                                        ...      ...\n",
       "6726779  B07SPJ5SHK                                       👎. 👎    ERROR\n",
       "6746492  B07CJV6PBJ                                       🤔. 🙄    ERROR\n",
       "6754149  B097TBJYZR                                     👎🏽. 👎🏽    ERROR\n",
       "6761902  B07QY4T41S                                 6/10. 6/10    ERROR\n",
       "6762683  B00VF4OKXI                                       👍. 👍    ERROR\n",
       "\n",
       "[722 rows x 3 columns]"
      ]
     },
     "execution_count": 7,
     "metadata": {},
     "output_type": "execute_result"
    }
   ],
   "source": [
    "df[df['language'] == 'ERROR']"
   ]
  },
  {
   "cell_type": "code",
   "execution_count": 8,
   "metadata": {},
   "outputs": [
    {
     "data": {
      "text/html": [
       "<div>\n",
       "<style scoped>\n",
       "    .dataframe tbody tr th:only-of-type {\n",
       "        vertical-align: middle;\n",
       "    }\n",
       "\n",
       "    .dataframe tbody tr th {\n",
       "        vertical-align: top;\n",
       "    }\n",
       "\n",
       "    .dataframe thead th {\n",
       "        text-align: right;\n",
       "    }\n",
       "</style>\n",
       "<table border=\"1\" class=\"dataframe\">\n",
       "  <thead>\n",
       "    <tr style=\"text-align: right;\">\n",
       "      <th></th>\n",
       "      <th>language</th>\n",
       "      <th>title_text_review</th>\n",
       "    </tr>\n",
       "  </thead>\n",
       "  <tbody>\n",
       "    <tr>\n",
       "      <th>9</th>\n",
       "      <td>en</td>\n",
       "      <td>6564993</td>\n",
       "    </tr>\n",
       "    <tr>\n",
       "      <th>1</th>\n",
       "      <td>af</td>\n",
       "      <td>72227</td>\n",
       "    </tr>\n",
       "    <tr>\n",
       "      <th>10</th>\n",
       "      <td>es</td>\n",
       "      <td>60446</td>\n",
       "    </tr>\n",
       "    <tr>\n",
       "      <th>8</th>\n",
       "      <td>de</td>\n",
       "      <td>14882</td>\n",
       "    </tr>\n",
       "    <tr>\n",
       "      <th>7</th>\n",
       "      <td>da</td>\n",
       "      <td>7204</td>\n",
       "    </tr>\n",
       "    <tr>\n",
       "      <th>24</th>\n",
       "      <td>nl</td>\n",
       "      <td>6953</td>\n",
       "    </tr>\n",
       "    <tr>\n",
       "      <th>32</th>\n",
       "      <td>so</td>\n",
       "      <td>4450</td>\n",
       "    </tr>\n",
       "    <tr>\n",
       "      <th>25</th>\n",
       "      <td>no</td>\n",
       "      <td>4382</td>\n",
       "    </tr>\n",
       "    <tr>\n",
       "      <th>14</th>\n",
       "      <td>fr</td>\n",
       "      <td>3782</td>\n",
       "    </tr>\n",
       "    <tr>\n",
       "      <th>27</th>\n",
       "      <td>pt</td>\n",
       "      <td>3062</td>\n",
       "    </tr>\n",
       "    <tr>\n",
       "      <th>19</th>\n",
       "      <td>it</td>\n",
       "      <td>2951</td>\n",
       "    </tr>\n",
       "    <tr>\n",
       "      <th>4</th>\n",
       "      <td>ca</td>\n",
       "      <td>2733</td>\n",
       "    </tr>\n",
       "    <tr>\n",
       "      <th>36</th>\n",
       "      <td>tl</td>\n",
       "      <td>2088</td>\n",
       "    </tr>\n",
       "    <tr>\n",
       "      <th>34</th>\n",
       "      <td>sv</td>\n",
       "      <td>1777</td>\n",
       "    </tr>\n",
       "    <tr>\n",
       "      <th>11</th>\n",
       "      <td>et</td>\n",
       "      <td>1537</td>\n",
       "    </tr>\n",
       "    <tr>\n",
       "      <th>18</th>\n",
       "      <td>id</td>\n",
       "      <td>1507</td>\n",
       "    </tr>\n",
       "    <tr>\n",
       "      <th>28</th>\n",
       "      <td>ro</td>\n",
       "      <td>1143</td>\n",
       "    </tr>\n",
       "    <tr>\n",
       "      <th>33</th>\n",
       "      <td>sq</td>\n",
       "      <td>1003</td>\n",
       "    </tr>\n",
       "    <tr>\n",
       "      <th>26</th>\n",
       "      <td>pl</td>\n",
       "      <td>963</td>\n",
       "    </tr>\n",
       "    <tr>\n",
       "      <th>6</th>\n",
       "      <td>cy</td>\n",
       "      <td>864</td>\n",
       "    </tr>\n",
       "    <tr>\n",
       "      <th>31</th>\n",
       "      <td>sl</td>\n",
       "      <td>735</td>\n",
       "    </tr>\n",
       "    <tr>\n",
       "      <th>0</th>\n",
       "      <td>ERROR</td>\n",
       "      <td>722</td>\n",
       "    </tr>\n",
       "    <tr>\n",
       "      <th>38</th>\n",
       "      <td>vi</td>\n",
       "      <td>702</td>\n",
       "    </tr>\n",
       "    <tr>\n",
       "      <th>13</th>\n",
       "      <td>fi</td>\n",
       "      <td>644</td>\n",
       "    </tr>\n",
       "    <tr>\n",
       "      <th>30</th>\n",
       "      <td>sk</td>\n",
       "      <td>478</td>\n",
       "    </tr>\n",
       "    <tr>\n",
       "      <th>16</th>\n",
       "      <td>hr</td>\n",
       "      <td>392</td>\n",
       "    </tr>\n",
       "    <tr>\n",
       "      <th>37</th>\n",
       "      <td>tr</td>\n",
       "      <td>385</td>\n",
       "    </tr>\n",
       "    <tr>\n",
       "      <th>35</th>\n",
       "      <td>sw</td>\n",
       "      <td>226</td>\n",
       "    </tr>\n",
       "    <tr>\n",
       "      <th>5</th>\n",
       "      <td>cs</td>\n",
       "      <td>177</td>\n",
       "    </tr>\n",
       "    <tr>\n",
       "      <th>17</th>\n",
       "      <td>hu</td>\n",
       "      <td>166</td>\n",
       "    </tr>\n",
       "    <tr>\n",
       "      <th>22</th>\n",
       "      <td>lt</td>\n",
       "      <td>89</td>\n",
       "    </tr>\n",
       "    <tr>\n",
       "      <th>23</th>\n",
       "      <td>lv</td>\n",
       "      <td>63</td>\n",
       "    </tr>\n",
       "    <tr>\n",
       "      <th>29</th>\n",
       "      <td>ru</td>\n",
       "      <td>5</td>\n",
       "    </tr>\n",
       "    <tr>\n",
       "      <th>2</th>\n",
       "      <td>ar</td>\n",
       "      <td>4</td>\n",
       "    </tr>\n",
       "    <tr>\n",
       "      <th>20</th>\n",
       "      <td>ja</td>\n",
       "      <td>3</td>\n",
       "    </tr>\n",
       "    <tr>\n",
       "      <th>21</th>\n",
       "      <td>ko</td>\n",
       "      <td>2</td>\n",
       "    </tr>\n",
       "    <tr>\n",
       "      <th>15</th>\n",
       "      <td>he</td>\n",
       "      <td>2</td>\n",
       "    </tr>\n",
       "    <tr>\n",
       "      <th>39</th>\n",
       "      <td>zh-cn</td>\n",
       "      <td>2</td>\n",
       "    </tr>\n",
       "    <tr>\n",
       "      <th>12</th>\n",
       "      <td>fa</td>\n",
       "      <td>1</td>\n",
       "    </tr>\n",
       "    <tr>\n",
       "      <th>3</th>\n",
       "      <td>bg</td>\n",
       "      <td>1</td>\n",
       "    </tr>\n",
       "  </tbody>\n",
       "</table>\n",
       "</div>"
      ],
      "text/plain": [
       "   language  title_text_review\n",
       "9        en            6564993\n",
       "1        af              72227\n",
       "10       es              60446\n",
       "8        de              14882\n",
       "7        da               7204\n",
       "24       nl               6953\n",
       "32       so               4450\n",
       "25       no               4382\n",
       "14       fr               3782\n",
       "27       pt               3062\n",
       "19       it               2951\n",
       "4        ca               2733\n",
       "36       tl               2088\n",
       "34       sv               1777\n",
       "11       et               1537\n",
       "18       id               1507\n",
       "28       ro               1143\n",
       "33       sq               1003\n",
       "26       pl                963\n",
       "6        cy                864\n",
       "31       sl                735\n",
       "0     ERROR                722\n",
       "38       vi                702\n",
       "13       fi                644\n",
       "30       sk                478\n",
       "16       hr                392\n",
       "37       tr                385\n",
       "35       sw                226\n",
       "5        cs                177\n",
       "17       hu                166\n",
       "22       lt                 89\n",
       "23       lv                 63\n",
       "29       ru                  5\n",
       "2        ar                  4\n",
       "20       ja                  3\n",
       "21       ko                  2\n",
       "15       he                  2\n",
       "39    zh-cn                  2\n",
       "12       fa                  1\n",
       "3        bg                  1"
      ]
     },
     "execution_count": 8,
     "metadata": {},
     "output_type": "execute_result"
    }
   ],
   "source": [
    "df_aux = df[['language', 'title_text_review']].groupby('language').count().reset_index().sort_values(by='title_text_review', ascending=False)\n",
    "df_aux"
   ]
  },
  {
   "cell_type": "code",
   "execution_count": 9,
   "metadata": {},
   "outputs": [
    {
     "name": "stderr",
     "output_type": "stream",
     "text": [
      "Pandas Apply: 100%|██████████| 40/40 [00:00<00:00, 69356.00it/s]\n"
     ]
    },
    {
     "data": {
      "text/plain": [
       "<Axes: xlabel='language', ylabel='title_text_review'>"
      ]
     },
     "execution_count": 9,
     "metadata": {},
     "output_type": "execute_result"
    },
    {
     "data": {
      "image/png": "[encoded data removed]",
      "text/plain": [
       "<Figure size 640x480 with 1 Axes>"
      ]
     },
     "metadata": {},
     "output_type": "display_data"
    }
   ],
   "source": [
    "df_aux = df[['language', 'title_text_review']].groupby('language').count().reset_index().sort_values(by='title_text_review', ascending=False)\n",
    "df_aux['language'] = df_aux.swifter.apply(lambda x: x['language'] if x['title_text_review'] > 3500 else 'others', axis=1)\n",
    "sns.barplot(x='language', y='title_text_review', data=df_aux)"
   ]
  },
  {
   "cell_type": "markdown",
   "metadata": {},
   "source": [
    "# Topic Modelling"
   ]
  },
  {
   "cell_type": "markdown",
   "metadata": {},
   "source": [
    "Use sentiment polarity to retrieve only reviews with negative sentiment"
   ]
  },
  {
   "cell_type": "code",
   "execution_count": 70,
   "metadata": {},
   "outputs": [
    {
     "data": {
      "application/vnd.jupyter.widget-view+json": {
       "model_id": "70828d2720374102adaa47cee303f3e6",
       "version_major": 2,
       "version_minor": 0
      },
      "text/plain": [
       "Pandas Apply:   0%|          | 0/662318 [00:00<?, ?it/s]"
      ]
     },
     "metadata": {},
     "output_type": "display_data"
    }
   ],
   "source": [
    "df['text_length'] = df['title_text_review'].swifter.apply(lambda x: len(x))\n"
   ]
  },
  {
   "cell_type": "code",
   "execution_count": 3,
   "metadata": {},
   "outputs": [
    {
     "data": {
      "application/vnd.jupyter.widget-view+json": {
       "model_id": "7d0b538774524f10bc4d29a49045293a",
       "version_major": 2,
       "version_minor": 0
      },
      "text/plain": [
       "Pandas Apply:   0%|          | 0/6763024 [00:00<?, ?it/s]"
      ]
     },
     "metadata": {},
     "output_type": "display_data"
    },
    {
     "data": {
      "application/vnd.jupyter.widget-view+json": {
       "model_id": "8c50a3f475d64618b559990f51d10c48",
       "version_major": 2,
       "version_minor": 0
      },
      "text/plain": [
       "Pandas Apply:   0%|          | 0/4000000 [00:00<?, ?it/s]"
      ]
     },
     "metadata": {},
     "output_type": "display_data"
    }
   ],
   "source": [
    "df = df[df['language'] != 'ERROR']\n",
    "df['title_text_review'] = df['title_text_review'].apply(lambda x: re.sub(r'[^\\x00-\\x7F]+', '', x))\n",
    "df['text_length'] = df['title_text_review'].swifter.apply(lambda x: len(x))\n",
    "df[(df['text_length'] < 1500) & (df['text_length'] > 60)]\n",
    "df = df[df['language'] == 'en']\n",
    "df = df.sample(4000000, random_state=42)\n",
    "df['review_sentiment'] = df['title_text_review'].swifter.apply(lambda x: TextBlob(x).sentiment.polarity)\n",
    "df = df[df['review_sentiment'] < -.2]\n",
    "df.drop(columns=['text_length', 'language'], inplace=True)"
   ]
  },
  {
   "cell_type": "markdown",
   "metadata": {},
   "source": [
    "Remove some words that appears a lot and do not bring much information about the product such as the word product, amazon or words that bring positive review (such as good, great,fine)"
   ]
  },
  {
   "cell_type": "code",
   "execution_count": 83,
   "metadata": {},
   "outputs": [],
   "source": [
    "def spacy_tokenizer(doc):\n",
    "    return [\n",
    "        token.text\n",
    "        for token in doc \n",
    "        if \n",
    "        token.is_alpha\n",
    "        and not token.is_punct\n",
    "        and not token.is_stop\n",
    "        and not token.ent_type_ in {'ORG', 'PRODUCT', 'CARDINAL', 'DATE'}\n",
    "        and token.dep_ in {'amod', 'advmod','neg','advcl', 'pobj', 'xcomp', 'dobj', 'ROOT'} \n",
    "        and token.head.pos_ in {'NOUN', 'ADJ', 'VERB'}\n",
    "    ]\n",
    "\n",
    "words_to_remove = [\n",
    "    'star', 'stars','one', 'two', 'three', 'nt', 'n\\'t', 'doesnt', 'dont', 'didnt', 'wasnt', 'werent', 'wouldnt', \n",
    "    'couldnt', 'shouldnt', 'havent', 'hasnt', 'hadnt', 'aint'\n",
    "]\n",
    "\n",
    "nlp = spacy.load(\"en_core_web_sm\", disable=['lemmatizer'])\n",
    "\n",
    "nlp.max_length = 4500000\n",
    "for i in words_to_remove:\n",
    "    nlp.Defaults.stop_words.add(i)"
   ]
  },
  {
   "cell_type": "code",
   "execution_count": null,
   "metadata": {},
   "outputs": [],
   "source": [
    "# Embeddings\n",
    "sentence_model = SentenceTransformer(\"all-MiniLM-L6-v2\")\n",
    "sentence_model.save(\"../model_deploy_test/all-MiniLM-L6-v2\")\n",
    "embeddings = sentence_model.encode(df['title_text_review'].tolist())\n",
    "\n",
    "# Iniciate UMAP\n",
    "\n",
    "umap_model = UMAP(\n",
    "    n_neighbors=30,\n",
    "    n_components=3,\n",
    "    min_dist=0.1,\n",
    "    metric='cosine',\n",
    "    random_state=42\n",
    ")\n",
    "\n",
    "#HDBSCAN\n",
    "\n",
    "hdbscan_model = HDBSCAN(\n",
    "    min_cluster_size=70,\n",
    "    gen_min_span_tree=True,\n",
    "    prediction_data=True\n",
    ")"
   ]
  },
  {
   "cell_type": "code",
   "execution_count": 6,
   "metadata": {},
   "outputs": [],
   "source": [
    "vectorizer_model = CountVectorizer(\n",
    "    tokenizer=lambda doc: spacy_tokenizer(nlp(doc)),\n",
    "    ngram_range = (1, 3),\n",
    "    lowercase=True\n",
    ")"
   ]
  },
  {
   "cell_type": "code",
   "execution_count": 7,
   "metadata": {},
   "outputs": [],
   "source": [
    "representation_model = MaximalMarginalRelevance(diversity=0.8)\n",
    "\n",
    "batch_size = 12000\n",
    "topic_models = []\n",
    "for i in range(0, len(df), batch_size):\n",
    "    df_batch = df.iloc[i:i+batch_size]\n",
    "\n",
    "    topic_model_i = BERTopic(\n",
    "        embedding_model=sentence_model,\n",
    "        umap_model=umap_model,\n",
    "        hdbscan_model=hdbscan_model,\n",
    "        vectorizer_model=vectorizer_model,\n",
    "        language='english',\n",
    "        calculate_probabilities=True,\n",
    "        representation_model=representation_model,\n",
    "        top_n_words=10,\n",
    "        nr_topics='auto'\n",
    "    ).fit(df_batch['title_text_review'], embeddings=embeddings[i:i+batch_size])\n",
    "\n",
    "    topic_models.append(topic_model_i)\n",
    "\n",
    "merged_model = BERTopic.merge_models(topic_models, min_similarity=1)"
   ]
  },
  {
   "cell_type": "code",
   "execution_count": 87,
   "metadata": {},
   "outputs": [],
   "source": [
    "merged_model = BERTopic.merge_models(topic_models, min_similarity=1)"
   ]
  },
  {
   "cell_type": "code",
   "execution_count": 162,
   "metadata": {},
   "outputs": [],
   "source": [
    "distances = cdist(embeddings, merged_model.topic_embeddings_, 'cosine')\n",
    "top_n = 5  # Number of representative documents you want\n",
    "closest_docs = {}\n",
    "\n",
    "for topic_idx, embeddings in enumerate(merged_model.topic_embeddings_):\n",
    "    # Sorting indices by distance for each topic\n",
    "    sorted_indices = np.argsort(distances[:, topic_idx])\n",
    "    # Selecting the top N closest documents\n",
    "    closest_docs[topic_idx] = df.iloc[sorted_indices[:top_n]]['title_text_review'].tolist()"
   ]
  },
  {
   "cell_type": "markdown",
   "metadata": {},
   "source": [
    "93 topics were found"
   ]
  },
  {
   "cell_type": "code",
   "execution_count": 88,
   "metadata": {},
   "outputs": [
    {
     "data": {
      "text/html": [
       "<div>\n",
       "<style scoped>\n",
       "    .dataframe tbody tr th:only-of-type {\n",
       "        vertical-align: middle;\n",
       "    }\n",
       "\n",
       "    .dataframe tbody tr th {\n",
       "        vertical-align: top;\n",
       "    }\n",
       "\n",
       "    .dataframe thead th {\n",
       "        text-align: right;\n",
       "    }\n",
       "</style>\n",
       "<table border=\"1\" class=\"dataframe\">\n",
       "  <thead>\n",
       "    <tr style=\"text-align: right;\">\n",
       "      <th></th>\n",
       "      <th>Topic</th>\n",
       "      <th>Count</th>\n",
       "      <th>Name</th>\n",
       "      <th>Representation</th>\n",
       "      <th>Representative_Docs</th>\n",
       "    </tr>\n",
       "  </thead>\n",
       "  <tbody>\n",
       "    <tr>\n",
       "      <th>0</th>\n",
       "      <td>0</td>\n",
       "      <td>611213</td>\n",
       "      <td>0_nt_working_waste_horrible</td>\n",
       "      <td>[nt, working, waste, horrible, bought, quality, return, charge, recommend, tried]</td>\n",
       "      <td>NaN</td>\n",
       "    </tr>\n",
       "    <tr>\n",
       "      <th>1</th>\n",
       "      <td>1</td>\n",
       "      <td>51105</td>\n",
       "      <td>1_poor_good_broken_hard</td>\n",
       "      <td>[poor, good, broken, hard, small, star work, return, buy, quality, disappointed]</td>\n",
       "      <td>NaN</td>\n",
       "    </tr>\n",
       "  </tbody>\n",
       "</table>\n",
       "</div>"
      ],
      "text/plain": [
       "   Topic   Count                         Name  \\\n",
       "0      0  611213  0_nt_working_waste_horrible   \n",
       "1      1   51105      1_poor_good_broken_hard   \n",
       "\n",
       "                                                                      Representation  \\\n",
       "0  [nt, working, waste, horrible, bought, quality, return, charge, recommend, tried]   \n",
       "1   [poor, good, broken, hard, small, star work, return, buy, quality, disappointed]   \n",
       "\n",
       "   Representative_Docs  \n",
       "0                  NaN  \n",
       "1                  NaN  "
      ]
     },
     "execution_count": 88,
     "metadata": {},
     "output_type": "execute_result"
    }
   ],
   "source": [
    "merged_model.get_topic_info()"
   ]
  },
  {
   "cell_type": "markdown",
   "metadata": {},
   "source": [
    "# Topics description and visualization"
   ]
  },
  {
   "cell_type": "code",
   "execution_count": 89,
   "metadata": {},
   "outputs": [
    {
     "data": {
      "application/vnd.plotly.v1+json": {
       "config": {
        "plotlyServerURL": "https://plot.ly"
       },
       "data": [
        {
         "marker": {
          "color": "#D55E00"
         },
         "orientation": "h",
         "type": "bar",
         "x": [
          0.015393263593444891,
          0.0162644233700124,
          0.01643011482015777,
          0.018589981673666125,
          0.037371329711677455
         ],
         "xaxis": "x",
         "y": [
          "bought  ",
          "horrible  ",
          "waste  ",
          "working  ",
          "nt  "
         ],
         "yaxis": "y"
        },
        {
         "marker": {
          "color": "#0072B2"
         },
         "orientation": "h",
         "type": "bar",
         "x": [
          0.01834910582675972,
          0.018710953868773306,
          0.02127598776890987,
          0.02943860428195607,
          0.03269764196874907
         ],
         "xaxis": "x2",
         "y": [
          "small  ",
          "hard  ",
          "broken  ",
          "good  ",
          "poor  "
         ],
         "yaxis": "y2"
        }
       ],
       "layout": {
        "annotations": [
         {
          "font": {
           "size": 16
          },
          "showarrow": false,
          "text": "Topic 0",
          "x": 0.0875,
          "xanchor": "center",
          "xref": "paper",
          "y": 1,
          "yanchor": "bottom",
          "yref": "paper"
         },
         {
          "font": {
           "size": 16
          },
          "showarrow": false,
          "text": "Topic 1",
          "x": 0.36250000000000004,
          "xanchor": "center",
          "xref": "paper",
          "y": 1,
          "yanchor": "bottom",
          "yref": "paper"
         }
        ],
        "height": 325,
        "hoverlabel": {
         "bgcolor": "white",
         "font": {
          "family": "Rockwell",
          "size": 16
         }
        },
        "showlegend": false,
        "template": {
         "data": {
          "bar": [
           {
            "error_x": {
             "color": "#2a3f5f"
            },
            "error_y": {
             "color": "#2a3f5f"
            },
            "marker": {
             "line": {
              "color": "white",
              "width": 0.5
             },
             "pattern": {
              "fillmode": "overlay",
              "size": 10,
              "solidity": 0.2
             }
            },
            "type": "bar"
           }
          ],
          "barpolar": [
           {
            "marker": {
             "line": {
              "color": "white",
              "width": 0.5
             },
             "pattern": {
              "fillmode": "overlay",
              "size": 10,
              "solidity": 0.2
             }
            },
            "type": "barpolar"
           }
          ],
          "carpet": [
           {
            "aaxis": {
             "endlinecolor": "#2a3f5f",
             "gridcolor": "#C8D4E3",
             "linecolor": "#C8D4E3",
             "minorgridcolor": "#C8D4E3",
             "startlinecolor": "#2a3f5f"
            },
            "baxis": {
             "endlinecolor": "#2a3f5f",
             "gridcolor": "#C8D4E3",
             "linecolor": "#C8D4E3",
             "minorgridcolor": "#C8D4E3",
             "startlinecolor": "#2a3f5f"
            },
            "type": "carpet"
           }
          ],
          "choropleth": [
           {
            "colorbar": {
             "outlinewidth": 0,
             "ticks": ""
            },
            "type": "choropleth"
           }
          ],
          "contour": [
           {
            "colorbar": {
             "outlinewidth": 0,
             "ticks": ""
            },
            "colorscale": [
             [
              0,
              "#0d0887"
             ],
             [
              0.1111111111111111,
              "#46039f"
             ],
             [
              0.2222222222222222,
              "#7201a8"
             ],
             [
              0.3333333333333333,
              "#9c179e"
             ],
             [
              0.4444444444444444,
              "#bd3786"
             ],
             [
              0.5555555555555556,
              "#d8576b"
             ],
             [
              0.6666666666666666,
              "#ed7953"
             ],
             [
              0.7777777777777778,
              "#fb9f3a"
             ],
             [
              0.8888888888888888,
              "#fdca26"
             ],
             [
              1,
              "#f0f921"
             ]
            ],
            "type": "contour"
           }
          ],
          "contourcarpet": [
           {
            "colorbar": {
             "outlinewidth": 0,
             "ticks": ""
            },
            "type": "contourcarpet"
           }
          ],
          "heatmap": [
           {
            "colorbar": {
             "outlinewidth": 0,
             "ticks": ""
            },
            "colorscale": [
             [
              0,
              "#0d0887"
             ],
             [
              0.1111111111111111,
              "#46039f"
             ],
             [
              0.2222222222222222,
              "#7201a8"
             ],
             [
              0.3333333333333333,
              "#9c179e"
             ],
             [
              0.4444444444444444,
              "#bd3786"
             ],
             [
              0.5555555555555556,
              "#d8576b"
             ],
             [
              0.6666666666666666,
              "#ed7953"
             ],
             [
              0.7777777777777778,
              "#fb9f3a"
             ],
             [
              0.8888888888888888,
              "#fdca26"
             ],
             [
              1,
              "#f0f921"
             ]
            ],
            "type": "heatmap"
           }
          ],
          "heatmapgl": [
           {
            "colorbar": {
             "outlinewidth": 0,
             "ticks": ""
            },
            "colorscale": [
             [
              0,
              "#0d0887"
             ],
             [
              0.1111111111111111,
              "#46039f"
             ],
             [
              0.2222222222222222,
              "#7201a8"
             ],
             [
              0.3333333333333333,
              "#9c179e"
             ],
             [
              0.4444444444444444,
              "#bd3786"
             ],
             [
              0.5555555555555556,
              "#d8576b"
             ],
             [
              0.6666666666666666,
              "#ed7953"
             ],
             [
              0.7777777777777778,
              "#fb9f3a"
             ],
             [
              0.8888888888888888,
              "#fdca26"
             ],
             [
              1,
              "#f0f921"
             ]
            ],
            "type": "heatmapgl"
           }
          ],
          "histogram": [
           {
            "marker": {
             "pattern": {
              "fillmode": "overlay",
              "size": 10,
              "solidity": 0.2
             }
            },
            "type": "histogram"
           }
          ],
          "histogram2d": [
           {
            "colorbar": {
             "outlinewidth": 0,
             "ticks": ""
            },
            "colorscale": [
             [
              0,
              "#0d0887"
             ],
             [
              0.1111111111111111,
              "#46039f"
             ],
             [
              0.2222222222222222,
              "#7201a8"
             ],
             [
              0.3333333333333333,
              "#9c179e"
             ],
             [
              0.4444444444444444,
              "#bd3786"
             ],
             [
              0.5555555555555556,
              "#d8576b"
             ],
             [
              0.6666666666666666,
              "#ed7953"
             ],
             [
              0.7777777777777778,
              "#fb9f3a"
             ],
             [
              0.8888888888888888,
              "#fdca26"
             ],
             [
              1,
              "#f0f921"
             ]
            ],
            "type": "histogram2d"
           }
          ],
          "histogram2dcontour": [
           {
            "colorbar": {
             "outlinewidth": 0,
             "ticks": ""
            },
            "colorscale": [
             [
              0,
              "#0d0887"
             ],
             [
              0.1111111111111111,
              "#46039f"
             ],
             [
              0.2222222222222222,
              "#7201a8"
             ],
             [
              0.3333333333333333,
              "#9c179e"
             ],
             [
              0.4444444444444444,
              "#bd3786"
             ],
             [
              0.5555555555555556,
              "#d8576b"
             ],
             [
              0.6666666666666666,
              "#ed7953"
             ],
             [
              0.7777777777777778,
              "#fb9f3a"
             ],
             [
              0.8888888888888888,
              "#fdca26"
             ],
             [
              1,
              "#f0f921"
             ]
            ],
            "type": "histogram2dcontour"
           }
          ],
          "mesh3d": [
           {
            "colorbar": {
             "outlinewidth": 0,
             "ticks": ""
            },
            "type": "mesh3d"
           }
          ],
          "parcoords": [
           {
            "line": {
             "colorbar": {
              "outlinewidth": 0,
              "ticks": ""
             }
            },
            "type": "parcoords"
           }
          ],
          "pie": [
           {
            "automargin": true,
            "type": "pie"
           }
          ],
          "scatter": [
           {
            "fillpattern": {
             "fillmode": "overlay",
             "size": 10,
             "solidity": 0.2
            },
            "type": "scatter"
           }
          ],
          "scatter3d": [
           {
            "line": {
             "colorbar": {
              "outlinewidth": 0,
              "ticks": ""
             }
            },
            "marker": {
             "colorbar": {
              "outlinewidth": 0,
              "ticks": ""
             }
            },
            "type": "scatter3d"
           }
          ],
          "scattercarpet": [
           {
            "marker": {
             "colorbar": {
              "outlinewidth": 0,
              "ticks": ""
             }
            },
            "type": "scattercarpet"
           }
          ],
          "scattergeo": [
           {
            "marker": {
             "colorbar": {
              "outlinewidth": 0,
              "ticks": ""
             }
            },
            "type": "scattergeo"
           }
          ],
          "scattergl": [
           {
            "marker": {
             "colorbar": {
              "outlinewidth": 0,
              "ticks": ""
             }
            },
            "type": "scattergl"
           }
          ],
          "scattermapbox": [
           {
            "marker": {
             "colorbar": {
              "outlinewidth": 0,
              "ticks": ""
             }
            },
            "type": "scattermapbox"
           }
          ],
          "scatterpolar": [
           {
            "marker": {
             "colorbar": {
              "outlinewidth": 0,
              "ticks": ""
             }
            },
            "type": "scatterpolar"
           }
          ],
          "scatterpolargl": [
           {
            "marker": {
             "colorbar": {
              "outlinewidth": 0,
              "ticks": ""
             }
            },
            "type": "scatterpolargl"
           }
          ],
          "scatterternary": [
           {
            "marker": {
             "colorbar": {
              "outlinewidth": 0,
              "ticks": ""
             }
            },
            "type": "scatterternary"
           }
          ],
          "surface": [
           {
            "colorbar": {
             "outlinewidth": 0,
             "ticks": ""
            },
            "colorscale": [
             [
              0,
              "#0d0887"
             ],
             [
              0.1111111111111111,
              "#46039f"
             ],
             [
              0.2222222222222222,
              "#7201a8"
             ],
             [
              0.3333333333333333,
              "#9c179e"
             ],
             [
              0.4444444444444444,
              "#bd3786"
             ],
             [
              0.5555555555555556,
              "#d8576b"
             ],
             [
              0.6666666666666666,
              "#ed7953"
             ],
             [
              0.7777777777777778,
              "#fb9f3a"
             ],
             [
              0.8888888888888888,
              "#fdca26"
             ],
             [
              1,
              "#f0f921"
             ]
            ],
            "type": "surface"
           }
          ],
          "table": [
           {
            "cells": {
             "fill": {
              "color": "#EBF0F8"
             },
             "line": {
              "color": "white"
             }
            },
            "header": {
             "fill": {
              "color": "#C8D4E3"
             },
             "line": {
              "color": "white"
             }
            },
            "type": "table"
           }
          ]
         },
         "layout": {
          "annotationdefaults": {
           "arrowcolor": "#2a3f5f",
           "arrowhead": 0,
           "arrowwidth": 1
          },
          "autotypenumbers": "strict",
          "coloraxis": {
           "colorbar": {
            "outlinewidth": 0,
            "ticks": ""
           }
          },
          "colorscale": {
           "diverging": [
            [
             0,
             "#8e0152"
            ],
            [
             0.1,
             "#c51b7d"
            ],
            [
             0.2,
             "#de77ae"
            ],
            [
             0.3,
             "#f1b6da"
            ],
            [
             0.4,
             "#fde0ef"
            ],
            [
             0.5,
             "#f7f7f7"
            ],
            [
             0.6,
             "#e6f5d0"
            ],
            [
             0.7,
             "#b8e186"
            ],
            [
             0.8,
             "#7fbc41"
            ],
            [
             0.9,
             "#4d9221"
            ],
            [
             1,
             "#276419"
            ]
           ],
           "sequential": [
            [
             0,
             "#0d0887"
            ],
            [
             0.1111111111111111,
             "#46039f"
            ],
            [
             0.2222222222222222,
             "#7201a8"
            ],
            [
             0.3333333333333333,
             "#9c179e"
            ],
            [
             0.4444444444444444,
             "#bd3786"
            ],
            [
             0.5555555555555556,
             "#d8576b"
            ],
            [
             0.6666666666666666,
             "#ed7953"
            ],
            [
             0.7777777777777778,
             "#fb9f3a"
            ],
            [
             0.8888888888888888,
             "#fdca26"
            ],
            [
             1,
             "#f0f921"
            ]
           ],
           "sequentialminus": [
            [
             0,
             "#0d0887"
            ],
            [
             0.1111111111111111,
             "#46039f"
            ],
            [
             0.2222222222222222,
             "#7201a8"
            ],
            [
             0.3333333333333333,
             "#9c179e"
            ],
            [
             0.4444444444444444,
             "#bd3786"
            ],
            [
             0.5555555555555556,
             "#d8576b"
            ],
            [
             0.6666666666666666,
             "#ed7953"
            ],
            [
             0.7777777777777778,
             "#fb9f3a"
            ],
            [
             0.8888888888888888,
             "#fdca26"
            ],
            [
             1,
             "#f0f921"
            ]
           ]
          },
          "colorway": [
           "#636efa",
           "#EF553B",
           "#00cc96",
           "#ab63fa",
           "#FFA15A",
           "#19d3f3",
           "#FF6692",
           "#B6E880",
           "#FF97FF",
           "#FECB52"
          ],
          "font": {
           "color": "#2a3f5f"
          },
          "geo": {
           "bgcolor": "white",
           "lakecolor": "white",
           "landcolor": "white",
           "showlakes": true,
           "showland": true,
           "subunitcolor": "#C8D4E3"
          },
          "hoverlabel": {
           "align": "left"
          },
          "hovermode": "closest",
          "mapbox": {
           "style": "light"
          },
          "paper_bgcolor": "white",
          "plot_bgcolor": "white",
          "polar": {
           "angularaxis": {
            "gridcolor": "#EBF0F8",
            "linecolor": "#EBF0F8",
            "ticks": ""
           },
           "bgcolor": "white",
           "radialaxis": {
            "gridcolor": "#EBF0F8",
            "linecolor": "#EBF0F8",
            "ticks": ""
           }
          },
          "scene": {
           "xaxis": {
            "backgroundcolor": "white",
            "gridcolor": "#DFE8F3",
            "gridwidth": 2,
            "linecolor": "#EBF0F8",
            "showbackground": true,
            "ticks": "",
            "zerolinecolor": "#EBF0F8"
           },
           "yaxis": {
            "backgroundcolor": "white",
            "gridcolor": "#DFE8F3",
            "gridwidth": 2,
            "linecolor": "#EBF0F8",
            "showbackground": true,
            "ticks": "",
            "zerolinecolor": "#EBF0F8"
           },
           "zaxis": {
            "backgroundcolor": "white",
            "gridcolor": "#DFE8F3",
            "gridwidth": 2,
            "linecolor": "#EBF0F8",
            "showbackground": true,
            "ticks": "",
            "zerolinecolor": "#EBF0F8"
           }
          },
          "shapedefaults": {
           "line": {
            "color": "#2a3f5f"
           }
          },
          "ternary": {
           "aaxis": {
            "gridcolor": "#DFE8F3",
            "linecolor": "#A2B1C6",
            "ticks": ""
           },
           "baxis": {
            "gridcolor": "#DFE8F3",
            "linecolor": "#A2B1C6",
            "ticks": ""
           },
           "bgcolor": "white",
           "caxis": {
            "gridcolor": "#DFE8F3",
            "linecolor": "#A2B1C6",
            "ticks": ""
           }
          },
          "title": {
           "x": 0.05
          },
          "xaxis": {
           "automargin": true,
           "gridcolor": "#EBF0F8",
           "linecolor": "#EBF0F8",
           "ticks": "",
           "title": {
            "standoff": 15
           },
           "zerolinecolor": "#EBF0F8",
           "zerolinewidth": 2
          },
          "yaxis": {
           "automargin": true,
           "gridcolor": "#EBF0F8",
           "linecolor": "#EBF0F8",
           "ticks": "",
           "title": {
            "standoff": 15
           },
           "zerolinecolor": "#EBF0F8",
           "zerolinewidth": 2
          }
         }
        },
        "title": {
         "font": {
          "color": "Black",
          "size": 22
         },
         "text": "Topic Word Scores",
         "x": 0.5,
         "xanchor": "center",
         "yanchor": "top"
        },
        "width": 1000,
        "xaxis": {
         "anchor": "y",
         "domain": [
          0,
          0.175
         ],
         "showgrid": true
        },
        "xaxis2": {
         "anchor": "y2",
         "domain": [
          0.275,
          0.45
         ],
         "showgrid": true
        },
        "xaxis3": {
         "anchor": "y3",
         "domain": [
          0.55,
          0.7250000000000001
         ],
         "showgrid": true
        },
        "xaxis4": {
         "anchor": "y4",
         "domain": [
          0.825,
          1
         ],
         "showgrid": true
        },
        "yaxis": {
         "anchor": "x",
         "domain": [
          0,
          1
         ],
         "showgrid": true
        },
        "yaxis2": {
         "anchor": "x2",
         "domain": [
          0,
          1
         ],
         "showgrid": true
        },
        "yaxis3": {
         "anchor": "x3",
         "domain": [
          0,
          1
         ],
         "showgrid": true
        },
        "yaxis4": {
         "anchor": "x4",
         "domain": [
          0,
          1
         ],
         "showgrid": true
        }
       }
      }
     },
     "metadata": {},
     "output_type": "display_data"
    }
   ],
   "source": [
    "merged_model.visualize_barchart(top_n_topics=8)"
   ]
  },
  {
   "cell_type": "markdown",
   "metadata": {},
   "source": [
    "A lot of 'nt', probably because of words like doesnt, werent, didnt in which just the 'does', 'do', 'did' parts were removed. It is necessary to add these stop words completely on nlp tokenizer. "
   ]
  },
  {
   "cell_type": "code",
   "execution_count": 90,
   "metadata": {},
   "outputs": [
    {
     "ename": "ValueError",
     "evalue": "zero-size array to reduction operation maximum which has no identity",
     "output_type": "error",
     "traceback": [
      "\u001b[0;31m---------------------------------------------------------------------------\u001b[0m",
      "\u001b[0;31mValueError\u001b[0m                                Traceback (most recent call last)",
      "Cell \u001b[0;32mIn[90], line 1\u001b[0m\n\u001b[0;32m----> 1\u001b[0m \u001b[43mmerged_model\u001b[49m\u001b[38;5;241;43m.\u001b[39;49m\u001b[43mvisualize_topics\u001b[49m\u001b[43m(\u001b[49m\u001b[43m)\u001b[49m\n",
      "File \u001b[0;32m~/.conda/envs/topic_modelling_reviews/lib/python3.10/site-packages/bertopic/_bertopic.py:2249\u001b[0m, in \u001b[0;36mBERTopic.visualize_topics\u001b[0;34m(self, topics, top_n_topics, custom_labels, title, width, height)\u001b[0m\n\u001b[1;32m   2216\u001b[0m \u001b[38;5;250m\u001b[39m\u001b[38;5;124;03m\"\"\" Visualize topics, their sizes, and their corresponding words\u001b[39;00m\n\u001b[1;32m   2217\u001b[0m \n\u001b[1;32m   2218\u001b[0m \u001b[38;5;124;03mThis visualization is highly inspired by LDAvis, a great visualization\u001b[39;00m\n\u001b[0;32m   (...)\u001b[0m\n\u001b[1;32m   2246\u001b[0m \u001b[38;5;124;03m```\u001b[39;00m\n\u001b[1;32m   2247\u001b[0m \u001b[38;5;124;03m\"\"\"\u001b[39;00m\n\u001b[1;32m   2248\u001b[0m check_is_fitted(\u001b[38;5;28mself\u001b[39m)\n\u001b[0;32m-> 2249\u001b[0m \u001b[38;5;28;01mreturn\u001b[39;00m \u001b[43mplotting\u001b[49m\u001b[38;5;241;43m.\u001b[39;49m\u001b[43mvisualize_topics\u001b[49m\u001b[43m(\u001b[49m\u001b[38;5;28;43mself\u001b[39;49m\u001b[43m,\u001b[49m\n\u001b[1;32m   2250\u001b[0m \u001b[43m                                 \u001b[49m\u001b[43mtopics\u001b[49m\u001b[38;5;241;43m=\u001b[39;49m\u001b[43mtopics\u001b[49m\u001b[43m,\u001b[49m\n\u001b[1;32m   2251\u001b[0m \u001b[43m                                 \u001b[49m\u001b[43mtop_n_topics\u001b[49m\u001b[38;5;241;43m=\u001b[39;49m\u001b[43mtop_n_topics\u001b[49m\u001b[43m,\u001b[49m\n\u001b[1;32m   2252\u001b[0m \u001b[43m                                 \u001b[49m\u001b[43mcustom_labels\u001b[49m\u001b[38;5;241;43m=\u001b[39;49m\u001b[43mcustom_labels\u001b[49m\u001b[43m,\u001b[49m\n\u001b[1;32m   2253\u001b[0m \u001b[43m                                 \u001b[49m\u001b[43mtitle\u001b[49m\u001b[38;5;241;43m=\u001b[39;49m\u001b[43mtitle\u001b[49m\u001b[43m,\u001b[49m\n\u001b[1;32m   2254\u001b[0m \u001b[43m                                 \u001b[49m\u001b[43mwidth\u001b[49m\u001b[38;5;241;43m=\u001b[39;49m\u001b[43mwidth\u001b[49m\u001b[43m,\u001b[49m\n\u001b[1;32m   2255\u001b[0m \u001b[43m                                 \u001b[49m\u001b[43mheight\u001b[49m\u001b[38;5;241;43m=\u001b[39;49m\u001b[43mheight\u001b[49m\u001b[43m)\u001b[49m\n",
      "File \u001b[0;32m~/.conda/envs/topic_modelling_reviews/lib/python3.10/site-packages/bertopic/plotting/_topics.py:79\u001b[0m, in \u001b[0;36mvisualize_topics\u001b[0;34m(topic_model, topics, top_n_topics, custom_labels, title, width, height)\u001b[0m\n\u001b[1;32m     77\u001b[0m \u001b[38;5;28;01mif\u001b[39;00m topic_model\u001b[38;5;241m.\u001b[39mtopic_embeddings_ \u001b[38;5;129;01mis\u001b[39;00m \u001b[38;5;129;01mnot\u001b[39;00m \u001b[38;5;28;01mNone\u001b[39;00m:\n\u001b[1;32m     78\u001b[0m     embeddings \u001b[38;5;241m=\u001b[39m topic_model\u001b[38;5;241m.\u001b[39mtopic_embeddings_[indices]\n\u001b[0;32m---> 79\u001b[0m     embeddings \u001b[38;5;241m=\u001b[39m \u001b[43mUMAP\u001b[49m\u001b[43m(\u001b[49m\u001b[43mn_neighbors\u001b[49m\u001b[38;5;241;43m=\u001b[39;49m\u001b[38;5;241;43m2\u001b[39;49m\u001b[43m,\u001b[49m\u001b[43m \u001b[49m\u001b[43mn_components\u001b[49m\u001b[38;5;241;43m=\u001b[39;49m\u001b[38;5;241;43m2\u001b[39;49m\u001b[43m,\u001b[49m\u001b[43m \u001b[49m\u001b[43mmetric\u001b[49m\u001b[38;5;241;43m=\u001b[39;49m\u001b[38;5;124;43m'\u001b[39;49m\u001b[38;5;124;43mcosine\u001b[39;49m\u001b[38;5;124;43m'\u001b[39;49m\u001b[43m,\u001b[49m\u001b[43m \u001b[49m\u001b[43mrandom_state\u001b[49m\u001b[38;5;241;43m=\u001b[39;49m\u001b[38;5;241;43m42\u001b[39;49m\u001b[43m)\u001b[49m\u001b[38;5;241;43m.\u001b[39;49m\u001b[43mfit_transform\u001b[49m\u001b[43m(\u001b[49m\u001b[43membeddings\u001b[49m\u001b[43m)\u001b[49m\n\u001b[1;32m     80\u001b[0m \u001b[38;5;28;01melse\u001b[39;00m:\n\u001b[1;32m     81\u001b[0m     embeddings \u001b[38;5;241m=\u001b[39m topic_model\u001b[38;5;241m.\u001b[39mc_tf_idf_\u001b[38;5;241m.\u001b[39mtoarray()[indices]\n",
      "File \u001b[0;32m~/.conda/envs/topic_modelling_reviews/lib/python3.10/site-packages/umap/umap_.py:2891\u001b[0m, in \u001b[0;36mUMAP.fit_transform\u001b[0;34m(self, X, y, force_all_finite)\u001b[0m\n\u001b[1;32m   2855\u001b[0m \u001b[38;5;28;01mdef\u001b[39;00m \u001b[38;5;21mfit_transform\u001b[39m(\u001b[38;5;28mself\u001b[39m, X, y\u001b[38;5;241m=\u001b[39m\u001b[38;5;28;01mNone\u001b[39;00m, force_all_finite\u001b[38;5;241m=\u001b[39m\u001b[38;5;28;01mTrue\u001b[39;00m):\n\u001b[1;32m   2856\u001b[0m \u001b[38;5;250m    \u001b[39m\u001b[38;5;124;03m\"\"\"Fit X into an embedded space and return that transformed\u001b[39;00m\n\u001b[1;32m   2857\u001b[0m \u001b[38;5;124;03m    output.\u001b[39;00m\n\u001b[1;32m   2858\u001b[0m \n\u001b[0;32m   (...)\u001b[0m\n\u001b[1;32m   2889\u001b[0m \u001b[38;5;124;03m        Local radii of data points in the embedding (log-transformed).\u001b[39;00m\n\u001b[1;32m   2890\u001b[0m \u001b[38;5;124;03m    \"\"\"\u001b[39;00m\n\u001b[0;32m-> 2891\u001b[0m     \u001b[38;5;28;43mself\u001b[39;49m\u001b[38;5;241;43m.\u001b[39;49m\u001b[43mfit\u001b[49m\u001b[43m(\u001b[49m\u001b[43mX\u001b[49m\u001b[43m,\u001b[49m\u001b[43m \u001b[49m\u001b[43my\u001b[49m\u001b[43m,\u001b[49m\u001b[43m \u001b[49m\u001b[43mforce_all_finite\u001b[49m\u001b[43m)\u001b[49m\n\u001b[1;32m   2892\u001b[0m     \u001b[38;5;28;01mif\u001b[39;00m \u001b[38;5;28mself\u001b[39m\u001b[38;5;241m.\u001b[39mtransform_mode \u001b[38;5;241m==\u001b[39m \u001b[38;5;124m\"\u001b[39m\u001b[38;5;124membedding\u001b[39m\u001b[38;5;124m\"\u001b[39m:\n\u001b[1;32m   2893\u001b[0m         \u001b[38;5;28;01mif\u001b[39;00m \u001b[38;5;28mself\u001b[39m\u001b[38;5;241m.\u001b[39moutput_dens:\n",
      "File \u001b[0;32m~/.conda/envs/topic_modelling_reviews/lib/python3.10/site-packages/umap/umap_.py:2784\u001b[0m, in \u001b[0;36mUMAP.fit\u001b[0;34m(self, X, y, force_all_finite)\u001b[0m\n\u001b[1;32m   2780\u001b[0m \u001b[38;5;28;01mif\u001b[39;00m \u001b[38;5;28mself\u001b[39m\u001b[38;5;241m.\u001b[39mtransform_mode \u001b[38;5;241m==\u001b[39m \u001b[38;5;124m\"\u001b[39m\u001b[38;5;124membedding\u001b[39m\u001b[38;5;124m\"\u001b[39m:\n\u001b[1;32m   2781\u001b[0m     epochs \u001b[38;5;241m=\u001b[39m (\n\u001b[1;32m   2782\u001b[0m         \u001b[38;5;28mself\u001b[39m\u001b[38;5;241m.\u001b[39mn_epochs_list \u001b[38;5;28;01mif\u001b[39;00m \u001b[38;5;28mself\u001b[39m\u001b[38;5;241m.\u001b[39mn_epochs_list \u001b[38;5;129;01mis\u001b[39;00m \u001b[38;5;129;01mnot\u001b[39;00m \u001b[38;5;28;01mNone\u001b[39;00m \u001b[38;5;28;01melse\u001b[39;00m \u001b[38;5;28mself\u001b[39m\u001b[38;5;241m.\u001b[39mn_epochs\n\u001b[1;32m   2783\u001b[0m     )\n\u001b[0;32m-> 2784\u001b[0m     \u001b[38;5;28mself\u001b[39m\u001b[38;5;241m.\u001b[39membedding_, aux_data \u001b[38;5;241m=\u001b[39m \u001b[38;5;28;43mself\u001b[39;49m\u001b[38;5;241;43m.\u001b[39;49m\u001b[43m_fit_embed_data\u001b[49m\u001b[43m(\u001b[49m\n\u001b[1;32m   2785\u001b[0m \u001b[43m        \u001b[49m\u001b[38;5;28;43mself\u001b[39;49m\u001b[38;5;241;43m.\u001b[39;49m\u001b[43m_raw_data\u001b[49m\u001b[43m[\u001b[49m\u001b[43mindex\u001b[49m\u001b[43m]\u001b[49m\u001b[43m,\u001b[49m\n\u001b[1;32m   2786\u001b[0m \u001b[43m        \u001b[49m\u001b[43mepochs\u001b[49m\u001b[43m,\u001b[49m\n\u001b[1;32m   2787\u001b[0m \u001b[43m        \u001b[49m\u001b[43minit\u001b[49m\u001b[43m,\u001b[49m\n\u001b[1;32m   2788\u001b[0m \u001b[43m        \u001b[49m\u001b[43mrandom_state\u001b[49m\u001b[43m,\u001b[49m\u001b[43m  \u001b[49m\u001b[38;5;66;43;03m# JH why raw data?\u001b[39;49;00m\n\u001b[1;32m   2789\u001b[0m \u001b[43m    \u001b[49m\u001b[43m)\u001b[49m\n\u001b[1;32m   2791\u001b[0m     \u001b[38;5;28;01mif\u001b[39;00m \u001b[38;5;28mself\u001b[39m\u001b[38;5;241m.\u001b[39mn_epochs_list \u001b[38;5;129;01mis\u001b[39;00m \u001b[38;5;129;01mnot\u001b[39;00m \u001b[38;5;28;01mNone\u001b[39;00m:\n\u001b[1;32m   2792\u001b[0m         \u001b[38;5;28;01mif\u001b[39;00m \u001b[38;5;124m\"\u001b[39m\u001b[38;5;124membedding_list\u001b[39m\u001b[38;5;124m\"\u001b[39m \u001b[38;5;129;01mnot\u001b[39;00m \u001b[38;5;129;01min\u001b[39;00m aux_data:\n",
      "File \u001b[0;32m~/.conda/envs/topic_modelling_reviews/lib/python3.10/site-packages/umap/umap_.py:2830\u001b[0m, in \u001b[0;36mUMAP._fit_embed_data\u001b[0;34m(self, X, n_epochs, init, random_state)\u001b[0m\n\u001b[1;32m   2826\u001b[0m \u001b[38;5;28;01mdef\u001b[39;00m \u001b[38;5;21m_fit_embed_data\u001b[39m(\u001b[38;5;28mself\u001b[39m, X, n_epochs, init, random_state):\n\u001b[1;32m   2827\u001b[0m \u001b[38;5;250m    \u001b[39m\u001b[38;5;124;03m\"\"\"A method wrapper for simplicial_set_embedding that can be\u001b[39;00m\n\u001b[1;32m   2828\u001b[0m \u001b[38;5;124;03m    replaced by subclasses.\u001b[39;00m\n\u001b[1;32m   2829\u001b[0m \u001b[38;5;124;03m    \"\"\"\u001b[39;00m\n\u001b[0;32m-> 2830\u001b[0m     \u001b[38;5;28;01mreturn\u001b[39;00m \u001b[43msimplicial_set_embedding\u001b[49m\u001b[43m(\u001b[49m\n\u001b[1;32m   2831\u001b[0m \u001b[43m        \u001b[49m\u001b[43mX\u001b[49m\u001b[43m,\u001b[49m\n\u001b[1;32m   2832\u001b[0m \u001b[43m        \u001b[49m\u001b[38;5;28;43mself\u001b[39;49m\u001b[38;5;241;43m.\u001b[39;49m\u001b[43mgraph_\u001b[49m\u001b[43m,\u001b[49m\n\u001b[1;32m   2833\u001b[0m \u001b[43m        \u001b[49m\u001b[38;5;28;43mself\u001b[39;49m\u001b[38;5;241;43m.\u001b[39;49m\u001b[43mn_components\u001b[49m\u001b[43m,\u001b[49m\n\u001b[1;32m   2834\u001b[0m \u001b[43m        \u001b[49m\u001b[38;5;28;43mself\u001b[39;49m\u001b[38;5;241;43m.\u001b[39;49m\u001b[43m_initial_alpha\u001b[49m\u001b[43m,\u001b[49m\n\u001b[1;32m   2835\u001b[0m \u001b[43m        \u001b[49m\u001b[38;5;28;43mself\u001b[39;49m\u001b[38;5;241;43m.\u001b[39;49m\u001b[43m_a\u001b[49m\u001b[43m,\u001b[49m\n\u001b[1;32m   2836\u001b[0m \u001b[43m        \u001b[49m\u001b[38;5;28;43mself\u001b[39;49m\u001b[38;5;241;43m.\u001b[39;49m\u001b[43m_b\u001b[49m\u001b[43m,\u001b[49m\n\u001b[1;32m   2837\u001b[0m \u001b[43m        \u001b[49m\u001b[38;5;28;43mself\u001b[39;49m\u001b[38;5;241;43m.\u001b[39;49m\u001b[43mrepulsion_strength\u001b[49m\u001b[43m,\u001b[49m\n\u001b[1;32m   2838\u001b[0m \u001b[43m        \u001b[49m\u001b[38;5;28;43mself\u001b[39;49m\u001b[38;5;241;43m.\u001b[39;49m\u001b[43mnegative_sample_rate\u001b[49m\u001b[43m,\u001b[49m\n\u001b[1;32m   2839\u001b[0m \u001b[43m        \u001b[49m\u001b[43mn_epochs\u001b[49m\u001b[43m,\u001b[49m\n\u001b[1;32m   2840\u001b[0m \u001b[43m        \u001b[49m\u001b[43minit\u001b[49m\u001b[43m,\u001b[49m\n\u001b[1;32m   2841\u001b[0m \u001b[43m        \u001b[49m\u001b[43mrandom_state\u001b[49m\u001b[43m,\u001b[49m\n\u001b[1;32m   2842\u001b[0m \u001b[43m        \u001b[49m\u001b[38;5;28;43mself\u001b[39;49m\u001b[38;5;241;43m.\u001b[39;49m\u001b[43m_input_distance_func\u001b[49m\u001b[43m,\u001b[49m\n\u001b[1;32m   2843\u001b[0m \u001b[43m        \u001b[49m\u001b[38;5;28;43mself\u001b[39;49m\u001b[38;5;241;43m.\u001b[39;49m\u001b[43m_metric_kwds\u001b[49m\u001b[43m,\u001b[49m\n\u001b[1;32m   2844\u001b[0m \u001b[43m        \u001b[49m\u001b[38;5;28;43mself\u001b[39;49m\u001b[38;5;241;43m.\u001b[39;49m\u001b[43mdensmap\u001b[49m\u001b[43m,\u001b[49m\n\u001b[1;32m   2845\u001b[0m \u001b[43m        \u001b[49m\u001b[38;5;28;43mself\u001b[39;49m\u001b[38;5;241;43m.\u001b[39;49m\u001b[43m_densmap_kwds\u001b[49m\u001b[43m,\u001b[49m\n\u001b[1;32m   2846\u001b[0m \u001b[43m        \u001b[49m\u001b[38;5;28;43mself\u001b[39;49m\u001b[38;5;241;43m.\u001b[39;49m\u001b[43moutput_dens\u001b[49m\u001b[43m,\u001b[49m\n\u001b[1;32m   2847\u001b[0m \u001b[43m        \u001b[49m\u001b[38;5;28;43mself\u001b[39;49m\u001b[38;5;241;43m.\u001b[39;49m\u001b[43m_output_distance_func\u001b[49m\u001b[43m,\u001b[49m\n\u001b[1;32m   2848\u001b[0m \u001b[43m        \u001b[49m\u001b[38;5;28;43mself\u001b[39;49m\u001b[38;5;241;43m.\u001b[39;49m\u001b[43m_output_metric_kwds\u001b[49m\u001b[43m,\u001b[49m\n\u001b[1;32m   2849\u001b[0m \u001b[43m        \u001b[49m\u001b[38;5;28;43mself\u001b[39;49m\u001b[38;5;241;43m.\u001b[39;49m\u001b[43moutput_metric\u001b[49m\u001b[43m \u001b[49m\u001b[38;5;129;43;01min\u001b[39;49;00m\u001b[43m \u001b[49m\u001b[43m(\u001b[49m\u001b[38;5;124;43m\"\u001b[39;49m\u001b[38;5;124;43meuclidean\u001b[39;49m\u001b[38;5;124;43m\"\u001b[39;49m\u001b[43m,\u001b[49m\u001b[43m \u001b[49m\u001b[38;5;124;43m\"\u001b[39;49m\u001b[38;5;124;43ml2\u001b[39;49m\u001b[38;5;124;43m\"\u001b[39;49m\u001b[43m)\u001b[49m\u001b[43m,\u001b[49m\n\u001b[1;32m   2850\u001b[0m \u001b[43m        \u001b[49m\u001b[38;5;28;43mself\u001b[39;49m\u001b[38;5;241;43m.\u001b[39;49m\u001b[43mrandom_state\u001b[49m\u001b[43m \u001b[49m\u001b[38;5;129;43;01mis\u001b[39;49;00m\u001b[43m \u001b[49m\u001b[38;5;28;43;01mNone\u001b[39;49;00m\u001b[43m,\u001b[49m\n\u001b[1;32m   2851\u001b[0m \u001b[43m        \u001b[49m\u001b[38;5;28;43mself\u001b[39;49m\u001b[38;5;241;43m.\u001b[39;49m\u001b[43mverbose\u001b[49m\u001b[43m,\u001b[49m\n\u001b[1;32m   2852\u001b[0m \u001b[43m        \u001b[49m\u001b[43mtqdm_kwds\u001b[49m\u001b[38;5;241;43m=\u001b[39;49m\u001b[38;5;28;43mself\u001b[39;49m\u001b[38;5;241;43m.\u001b[39;49m\u001b[43mtqdm_kwds\u001b[49m\u001b[43m,\u001b[49m\n\u001b[1;32m   2853\u001b[0m \u001b[43m    \u001b[49m\u001b[43m)\u001b[49m\n",
      "File \u001b[0;32m~/.conda/envs/topic_modelling_reviews/lib/python3.10/site-packages/umap/umap_.py:1087\u001b[0m, in \u001b[0;36msimplicial_set_embedding\u001b[0;34m(data, graph, n_components, initial_alpha, a, b, gamma, negative_sample_rate, n_epochs, init, random_state, metric, metric_kwds, densmap, densmap_kwds, output_dens, output_metric, output_metric_kwds, euclidean_output, parallel, verbose, tqdm_kwds)\u001b[0m\n\u001b[1;32m   1084\u001b[0m n_epochs_max \u001b[38;5;241m=\u001b[39m \u001b[38;5;28mmax\u001b[39m(n_epochs) \u001b[38;5;28;01mif\u001b[39;00m \u001b[38;5;28misinstance\u001b[39m(n_epochs, \u001b[38;5;28mlist\u001b[39m) \u001b[38;5;28;01melse\u001b[39;00m n_epochs\n\u001b[1;32m   1086\u001b[0m \u001b[38;5;28;01mif\u001b[39;00m n_epochs_max \u001b[38;5;241m>\u001b[39m \u001b[38;5;241m10\u001b[39m:\n\u001b[0;32m-> 1087\u001b[0m     graph\u001b[38;5;241m.\u001b[39mdata[graph\u001b[38;5;241m.\u001b[39mdata \u001b[38;5;241m<\u001b[39m (\u001b[43mgraph\u001b[49m\u001b[38;5;241;43m.\u001b[39;49m\u001b[43mdata\u001b[49m\u001b[38;5;241;43m.\u001b[39;49m\u001b[43mmax\u001b[49m\u001b[43m(\u001b[49m\u001b[43m)\u001b[49m \u001b[38;5;241m/\u001b[39m \u001b[38;5;28mfloat\u001b[39m(n_epochs_max))] \u001b[38;5;241m=\u001b[39m \u001b[38;5;241m0.0\u001b[39m\n\u001b[1;32m   1088\u001b[0m \u001b[38;5;28;01melse\u001b[39;00m:\n\u001b[1;32m   1089\u001b[0m     graph\u001b[38;5;241m.\u001b[39mdata[graph\u001b[38;5;241m.\u001b[39mdata \u001b[38;5;241m<\u001b[39m (graph\u001b[38;5;241m.\u001b[39mdata\u001b[38;5;241m.\u001b[39mmax() \u001b[38;5;241m/\u001b[39m \u001b[38;5;28mfloat\u001b[39m(default_epochs))] \u001b[38;5;241m=\u001b[39m \u001b[38;5;241m0.0\u001b[39m\n",
      "File \u001b[0;32m~/.conda/envs/topic_modelling_reviews/lib/python3.10/site-packages/numpy/core/_methods.py:41\u001b[0m, in \u001b[0;36m_amax\u001b[0;34m(a, axis, out, keepdims, initial, where)\u001b[0m\n\u001b[1;32m     39\u001b[0m \u001b[38;5;28;01mdef\u001b[39;00m \u001b[38;5;21m_amax\u001b[39m(a, axis\u001b[38;5;241m=\u001b[39m\u001b[38;5;28;01mNone\u001b[39;00m, out\u001b[38;5;241m=\u001b[39m\u001b[38;5;28;01mNone\u001b[39;00m, keepdims\u001b[38;5;241m=\u001b[39m\u001b[38;5;28;01mFalse\u001b[39;00m,\n\u001b[1;32m     40\u001b[0m           initial\u001b[38;5;241m=\u001b[39m_NoValue, where\u001b[38;5;241m=\u001b[39m\u001b[38;5;28;01mTrue\u001b[39;00m):\n\u001b[0;32m---> 41\u001b[0m     \u001b[38;5;28;01mreturn\u001b[39;00m \u001b[43mumr_maximum\u001b[49m\u001b[43m(\u001b[49m\u001b[43ma\u001b[49m\u001b[43m,\u001b[49m\u001b[43m \u001b[49m\u001b[43maxis\u001b[49m\u001b[43m,\u001b[49m\u001b[43m \u001b[49m\u001b[38;5;28;43;01mNone\u001b[39;49;00m\u001b[43m,\u001b[49m\u001b[43m \u001b[49m\u001b[43mout\u001b[49m\u001b[43m,\u001b[49m\u001b[43m \u001b[49m\u001b[43mkeepdims\u001b[49m\u001b[43m,\u001b[49m\u001b[43m \u001b[49m\u001b[43minitial\u001b[49m\u001b[43m,\u001b[49m\u001b[43m \u001b[49m\u001b[43mwhere\u001b[49m\u001b[43m)\u001b[49m\n",
      "\u001b[0;31mValueError\u001b[0m: zero-size array to reduction operation maximum which has no identity"
     ]
    }
   ],
   "source": [
    "merged_model.visualize_topics()"
   ]
  },
  {
   "cell_type": "markdown",
   "metadata": {},
   "source": [
    "Many topics are really close to each other so they probably are going to be merged so one can work with less but representative clusters. After merge near topics, one can obtain 16 well separated clusters."
   ]
  },
  {
   "cell_type": "code",
   "execution_count": null,
   "metadata": {},
   "outputs": [],
   "source": [
    "from sklearn.metrics.pairwise import cosine_similarity\n",
    "distance_matrix = cosine_similarity(np.array(merged_model.topic_embeddings_))\n",
    "dist_df = pd.DataFrame(distance_matrix, columns=merged_model.topic_labels_.values(), \n",
    "                       index=merged_model.topic_labels_.values())\n",
    "\n",
    "tmp = []\n",
    "for rec in dist_df.reset_index().to_dict('records'):\n",
    "    t1 = rec['index']\n",
    "    for t2 in rec:\n",
    "        if t2 == 'index': \n",
    "            continue\n",
    "        tmp.append(\n",
    "            {\n",
    "                'topic1': t1, \n",
    "                'topic2': t2, \n",
    "                'distance': rec[t2]\n",
    "            }\n",
    "        )\n",
    "\n",
    "pair_dist_df = pd.DataFrame(tmp)\n",
    "\n",
    "pair_dist_df = pair_dist_df[(pair_dist_df.topic1.map(\n",
    "      lambda x: not x.startswith('-1'))) & \n",
    "            (pair_dist_df.topic2.map(lambda x: not x.startswith('-1')))]\n",
    "pair_dist_df = pair_dist_df[pair_dist_df.topic1 < pair_dist_df.topic2]\n",
    "pair_dist_df.sort_values('distance', ascending = False).head(60)"
   ]
  },
  {
   "cell_type": "markdown",
   "metadata": {},
   "source": [
    "Lots of topics could be merged"
   ]
  },
  {
   "cell_type": "code",
   "execution_count": 66,
   "metadata": {},
   "outputs": [
    {
     "data": {
      "text/html": [
       "<div>\n",
       "<style scoped>\n",
       "    .dataframe tbody tr th:only-of-type {\n",
       "        vertical-align: middle;\n",
       "    }\n",
       "\n",
       "    .dataframe tbody tr th {\n",
       "        vertical-align: top;\n",
       "    }\n",
       "\n",
       "    .dataframe thead th {\n",
       "        text-align: right;\n",
       "    }\n",
       "</style>\n",
       "<table border=\"1\" class=\"dataframe\">\n",
       "  <thead>\n",
       "    <tr style=\"text-align: right;\">\n",
       "      <th></th>\n",
       "      <th>Topic</th>\n",
       "      <th>Count</th>\n",
       "      <th>Name</th>\n",
       "      <th>Representation</th>\n",
       "      <th>Representative_Docs</th>\n",
       "    </tr>\n",
       "  </thead>\n",
       "  <tbody>\n",
       "    <tr>\n",
       "      <th>0</th>\n",
       "      <td>0</td>\n",
       "      <td>611213</td>\n",
       "      <td>0_the_it_to_and</td>\n",
       "      <td>[the, it, to, and, not, this, is, of, for, my]</td>\n",
       "      <td>[All broken after a month of use. So disappointed, out of the 6 pack we have only  1 left in less than 60 days. The charging port snapped off on all of them. The one I pictured was after 1 week use. I unplugged my iPhone and it just fell off. No way to contact seller, so its a big waste of money., Useless. You can do the same things without the firestick you can with it. Literally a useless product. Bought it thinking it an alternative to cable and satellite. Turns out you still have to pay for cable. It does nothing for me and I regret purchasing it. A waste of money and time. They advertise something that does nothing your smart tv can't do without it. Save yourself the money. Amazon sucks. I'm discontinuing my prime account as well. Second time I've been disappointed by Amazon this month. They don't give you refunds but after 1-2 weeks. Well Amazon you can't have anymore of my Money, Absolutely awful look at pics and read review. First off they sent me instructions for installing a screen on a cell phone (shown in picture) and I dont think that was a mistake that is just all they send. There are no sticker pull tabs to help with installation. It says just drop it on. Once dropped on bubbles everywhere and as you can see in the picture impossible to get them all the way out. They dont even send a squeegee you have to hack up the box with a knife and use that. Its not even close to being tempered glass as advertised. 1,000% plastic. And the touchscreen feature barely works with it on also opposite of whats advertised. Do yourself a favor and do not buy this!]</td>\n",
       "    </tr>\n",
       "    <tr>\n",
       "      <th>1</th>\n",
       "      <td>1</td>\n",
       "      <td>1013</td>\n",
       "      <td>1_star_one_stars_two</td>\n",
       "      <td>[star, one, stars, two, very, wrong, poor, quality, to, bad]</td>\n",
       "      <td>[One Star. Terrible, One Star. bad, One Star. Terrible]</td>\n",
       "    </tr>\n",
       "    <tr>\n",
       "      <th>2</th>\n",
       "      <td>2</td>\n",
       "      <td>985</td>\n",
       "      <td>2_star_one_stars_two</td>\n",
       "      <td>[star, one, stars, two, too, wrong, not, very, to, it]</td>\n",
       "      <td>[One Star. Terrible, One Star. bad, One Star. T.T bad]</td>\n",
       "    </tr>\n",
       "    <tr>\n",
       "      <th>3</th>\n",
       "      <td>3</td>\n",
       "      <td>981</td>\n",
       "      <td>3_star_one_stars_two</td>\n",
       "      <td>[star, one, stars, two, wrong, not, very, poor, quality, to]</td>\n",
       "      <td>[One Star. Very disappointed, One Star. bad!!!!, One Star. bad]</td>\n",
       "    </tr>\n",
       "    <tr>\n",
       "      <th>4</th>\n",
       "      <td>4</td>\n",
       "      <td>981</td>\n",
       "      <td>4_star_one_stars_two</td>\n",
       "      <td>[star, one, stars, two, not, it, very, good, to, wrong]</td>\n",
       "      <td>[One Star. Terrible!, One Star. bad, One Star. very bad]</td>\n",
       "    </tr>\n",
       "    <tr>\n",
       "      <th>5</th>\n",
       "      <td>5</td>\n",
       "      <td>974</td>\n",
       "      <td>5_star_one_stars_two</td>\n",
       "      <td>[star, one, stars, two, quality, poor, not, broken, good, wrong]</td>\n",
       "      <td>[One Star. poor, One Star. Poor!, One Star. Very bad]</td>\n",
       "    </tr>\n",
       "    <tr>\n",
       "      <th>6</th>\n",
       "      <td>6</td>\n",
       "      <td>970</td>\n",
       "      <td>6_star_one_stars_two</td>\n",
       "      <td>[star, one, stars, two, not, quality, very, it, poor, was]</td>\n",
       "      <td>[One Star. bad quality., One Star. Terrible, One Star. bad]</td>\n",
       "    </tr>\n",
       "    <tr>\n",
       "      <th>7</th>\n",
       "      <td>7</td>\n",
       "      <td>969</td>\n",
       "      <td>7_star_one_stars_two</td>\n",
       "      <td>[star, one, stars, two, bad, it, not, very, too, was]</td>\n",
       "      <td>[One Star. bad product!!!!!!!, One Star. Disappointed, One Star. bad]</td>\n",
       "    </tr>\n",
       "    <tr>\n",
       "      <th>8</th>\n",
       "      <td>8</td>\n",
       "      <td>963</td>\n",
       "      <td>8_star_one_stars_two</td>\n",
       "      <td>[star, one, stars, two, wrong, not, small, very, it, to]</td>\n",
       "      <td>[One Star. Very bad, One Star. Terrible, One Star. It's bad]</td>\n",
       "    </tr>\n",
       "    <tr>\n",
       "      <th>9</th>\n",
       "      <td>9</td>\n",
       "      <td>962</td>\n",
       "      <td>9_star_one_stars_two</td>\n",
       "      <td>[star, one, stars, two, not, too, it, wrong, very, to]</td>\n",
       "      <td>[One Star. Bad product., One Star. bad one, One Star. bad]</td>\n",
       "    </tr>\n",
       "    <tr>\n",
       "      <th>10</th>\n",
       "      <td>10</td>\n",
       "      <td>961</td>\n",
       "      <td>10_star_one_stars_two</td>\n",
       "      <td>[star, one, stars, two, very, wrong, too, broken, not, quality]</td>\n",
       "      <td>[One Star. Very bad, One Star. It's very bad, One Star. bad]</td>\n",
       "    </tr>\n",
       "    <tr>\n",
       "      <th>11</th>\n",
       "      <td>11</td>\n",
       "      <td>959</td>\n",
       "      <td>11_star_one_stars_two</td>\n",
       "      <td>[star, one, stars, two, very, not, it, too, quality, to]</td>\n",
       "      <td>[One Star. Terrible!, One Star. bad, One Star. Very bad]</td>\n",
       "    </tr>\n",
       "    <tr>\n",
       "      <th>12</th>\n",
       "      <td>12</td>\n",
       "      <td>959</td>\n",
       "      <td>12_star_one_stars_two</td>\n",
       "      <td>[star, one, stars, two, wrong, very, small, not, good, too]</td>\n",
       "      <td>[One Star. it was bad, One Star. Disappointed!, One Star. bad]</td>\n",
       "    </tr>\n",
       "    <tr>\n",
       "      <th>13</th>\n",
       "      <td>13</td>\n",
       "      <td>958</td>\n",
       "      <td>13_star_one_stars_two</td>\n",
       "      <td>[star, one, stars, two, wrong, very, small, too, hard, not]</td>\n",
       "      <td>[One Star. Horrible, One Star. Horrible, One Star. it's terrible]</td>\n",
       "    </tr>\n",
       "    <tr>\n",
       "      <th>14</th>\n",
       "      <td>14</td>\n",
       "      <td>955</td>\n",
       "      <td>14_star_one_stars_two</td>\n",
       "      <td>[star, one, stars, two, not, very, bad, too, wrong, poor]</td>\n",
       "      <td>[One Star. bad, One Star. bad.., One Star. bad]</td>\n",
       "    </tr>\n",
       "    <tr>\n",
       "      <th>15</th>\n",
       "      <td>15</td>\n",
       "      <td>954</td>\n",
       "      <td>15_star_one_stars_two</td>\n",
       "      <td>[star, one, stars, two, very, too, quality, not, small, it]</td>\n",
       "      <td>[One Star. terrible, One Star. Terrible., One Star. It's bad]</td>\n",
       "    </tr>\n",
       "    <tr>\n",
       "      <th>16</th>\n",
       "      <td>16</td>\n",
       "      <td>953</td>\n",
       "      <td>16_star_one_stars_two</td>\n",
       "      <td>[star, one, stars, two, good, not, very, bad, it, was]</td>\n",
       "      <td>[One Star. It is bad., One Star. bad, One Star. bad]</td>\n",
       "    </tr>\n",
       "    <tr>\n",
       "      <th>17</th>\n",
       "      <td>17</td>\n",
       "      <td>952</td>\n",
       "      <td>17_star_one_stars_two</td>\n",
       "      <td>[star, one, stars, two, not, it, broken, wrong, very, small]</td>\n",
       "      <td>[One Star. horrible, One Star. horrible, One Star. It was very bad]</td>\n",
       "    </tr>\n",
       "    <tr>\n",
       "      <th>18</th>\n",
       "      <td>18</td>\n",
       "      <td>945</td>\n",
       "      <td>18_star_one_stars_two</td>\n",
       "      <td>[star, one, stars, two, wrong, it, very, not, product, too]</td>\n",
       "      <td>[One Star. Horrible, One Star. Terrible, One Star. Horrible !]</td>\n",
       "    </tr>\n",
       "    <tr>\n",
       "      <th>19</th>\n",
       "      <td>19</td>\n",
       "      <td>944</td>\n",
       "      <td>19_star_one_stars_two</td>\n",
       "      <td>[star, one, stars, two, too, not, it, very, small, quality]</td>\n",
       "      <td>[One Star. Terrible, One Star. Very bad, One Star. bad]</td>\n",
       "    </tr>\n",
       "    <tr>\n",
       "      <th>20</th>\n",
       "      <td>20</td>\n",
       "      <td>942</td>\n",
       "      <td>20_star_one_stars_two</td>\n",
       "      <td>[star, one, stars, two, not, very, bad, quality, too, it]</td>\n",
       "      <td>[One Star. bad quality, One Star. poor, One Star. Very bad]</td>\n",
       "    </tr>\n",
       "    <tr>\n",
       "      <th>21</th>\n",
       "      <td>21</td>\n",
       "      <td>936</td>\n",
       "      <td>21_star_one_stars_two</td>\n",
       "      <td>[star, one, stars, two, very, wrong, broken, not, it, too]</td>\n",
       "      <td>[One Star. Very disappointed :(, One Star. Very bad, One Star. bad]</td>\n",
       "    </tr>\n",
       "    <tr>\n",
       "      <th>22</th>\n",
       "      <td>22</td>\n",
       "      <td>932</td>\n",
       "      <td>22_star_one_stars_two</td>\n",
       "      <td>[star, one, stars, two, very, not, too, it, broken, wrong]</td>\n",
       "      <td>[One Star. Bad work, One Star. Very disappointed, One Star. bad]</td>\n",
       "    </tr>\n",
       "    <tr>\n",
       "      <th>23</th>\n",
       "      <td>23</td>\n",
       "      <td>932</td>\n",
       "      <td>23_star_one_stars_two</td>\n",
       "      <td>[star, one, stars, two, wrong, very, not, it, good, too]</td>\n",
       "      <td>[One Star. Very disappointed, One Star. terrible, One Star. Terrible...]</td>\n",
       "    </tr>\n",
       "    <tr>\n",
       "      <th>24</th>\n",
       "      <td>24</td>\n",
       "      <td>930</td>\n",
       "      <td>24_star_one_stars_two</td>\n",
       "      <td>[star, one, stars, two, not, very, it, to, broken, poor]</td>\n",
       "      <td>[One Star. Very bad, One Star. bad, One Star. bad]</td>\n",
       "    </tr>\n",
       "    <tr>\n",
       "      <th>25</th>\n",
       "      <td>25</td>\n",
       "      <td>928</td>\n",
       "      <td>25_star_one_stars_two</td>\n",
       "      <td>[star, one, stars, two, it, not, quality, wrong, very, to]</td>\n",
       "      <td>[One Star. Bad Quality, One Star. Bad quality, One Star. very bad]</td>\n",
       "    </tr>\n",
       "    <tr>\n",
       "      <th>26</th>\n",
       "      <td>26</td>\n",
       "      <td>924</td>\n",
       "      <td>26_star_one_stars_two</td>\n",
       "      <td>[star, one, stars, two, too, not, wrong, small, very, to]</td>\n",
       "      <td>[One Star. Terrible product., One Star. Bad quality!, One Star. bad]</td>\n",
       "    </tr>\n",
       "    <tr>\n",
       "      <th>27</th>\n",
       "      <td>27</td>\n",
       "      <td>923</td>\n",
       "      <td>27_star_one_stars_two</td>\n",
       "      <td>[star, one, stars, two, not, very, it, wrong, broken, bad]</td>\n",
       "      <td>[One Star. bad, One Star. bad, One Star. bad]</td>\n",
       "    </tr>\n",
       "    <tr>\n",
       "      <th>28</th>\n",
       "      <td>28</td>\n",
       "      <td>922</td>\n",
       "      <td>28_star_one_stars_two</td>\n",
       "      <td>[star, one, stars, two, very, wrong, not, broken, good, small]</td>\n",
       "      <td>[One Star. bad, One Star. bad, One Star. bad]</td>\n",
       "    </tr>\n",
       "    <tr>\n",
       "      <th>29</th>\n",
       "      <td>29</td>\n",
       "      <td>920</td>\n",
       "      <td>29_star_one_stars_two</td>\n",
       "      <td>[star, one, stars, two, very, wrong, not, too, it, was]</td>\n",
       "      <td>[One Star. Horrible!, One Star. bad, One Star. Bad product]</td>\n",
       "    </tr>\n",
       "    <tr>\n",
       "      <th>30</th>\n",
       "      <td>30</td>\n",
       "      <td>919</td>\n",
       "      <td>30_star_one_stars_two</td>\n",
       "      <td>[star, one, stars, two, not, very, good, poor, wrong, hard]</td>\n",
       "      <td>[One Star. bad, One Star. bad, One Star. bad]</td>\n",
       "    </tr>\n",
       "    <tr>\n",
       "      <th>31</th>\n",
       "      <td>31</td>\n",
       "      <td>916</td>\n",
       "      <td>31_star_one_stars_two</td>\n",
       "      <td>[star, one, stars, two, too, not, good, small, to, it]</td>\n",
       "      <td>[One Star. Very bad, One Star. bad, One Star. bad]</td>\n",
       "    </tr>\n",
       "    <tr>\n",
       "      <th>32</th>\n",
       "      <td>32</td>\n",
       "      <td>915</td>\n",
       "      <td>32_star_one_stars_two</td>\n",
       "      <td>[star, one, stars, two, very, it, bad, not, broken, to]</td>\n",
       "      <td>[One Star. poor, One Star. Terrible., One Star. bad]</td>\n",
       "    </tr>\n",
       "    <tr>\n",
       "      <th>33</th>\n",
       "      <td>33</td>\n",
       "      <td>914</td>\n",
       "      <td>33_star_one_stars_two</td>\n",
       "      <td>[star, one, stars, two, small, not, too, it, quality, was]</td>\n",
       "      <td>[One Star. terrible, One Star. bad, One Star. bad]</td>\n",
       "    </tr>\n",
       "    <tr>\n",
       "      <th>34</th>\n",
       "      <td>34</td>\n",
       "      <td>912</td>\n",
       "      <td>34_star_one_stars_two</td>\n",
       "      <td>[star, one, stars, two, small, very, not, too, quality, poor]</td>\n",
       "      <td>[One Star. very bad, One Star. Disappointed, One Star. bad]</td>\n",
       "    </tr>\n",
       "    <tr>\n",
       "      <th>35</th>\n",
       "      <td>35</td>\n",
       "      <td>911</td>\n",
       "      <td>35_star_one_stars_two</td>\n",
       "      <td>[star, one, stars, two, very, wrong, not, it, is, to]</td>\n",
       "      <td>[One Star. poor, One Star. Very bad, One Star. Disappointed]</td>\n",
       "    </tr>\n",
       "    <tr>\n",
       "      <th>36</th>\n",
       "      <td>36</td>\n",
       "      <td>908</td>\n",
       "      <td>36_star_one_stars_two</td>\n",
       "      <td>[star, one, stars, two, not, very, small, good, too, broken]</td>\n",
       "      <td>[One Star. Horrible, One Star. Terrible, One Star. bad]</td>\n",
       "    </tr>\n",
       "    <tr>\n",
       "      <th>37</th>\n",
       "      <td>37</td>\n",
       "      <td>907</td>\n",
       "      <td>37_star_one_stars_two</td>\n",
       "      <td>[star, one, stars, two, wrong, not, very, good, it, bad]</td>\n",
       "      <td>[One Star. Poor, One Star. very bad, One Star. very bad]</td>\n",
       "    </tr>\n",
       "    <tr>\n",
       "      <th>38</th>\n",
       "      <td>38</td>\n",
       "      <td>906</td>\n",
       "      <td>38_star_one_stars_two</td>\n",
       "      <td>[star, one, stars, two, very, broken, small, too, it, not]</td>\n",
       "      <td>[One Star. Terrible, One Star. bad, One Star. one star ...quality is not good]</td>\n",
       "    </tr>\n",
       "    <tr>\n",
       "      <th>39</th>\n",
       "      <td>39</td>\n",
       "      <td>905</td>\n",
       "      <td>39_star_one_stars_two</td>\n",
       "      <td>[star, one, stars, two, very, not, quality, it, poor, broken]</td>\n",
       "      <td>[One Star. Terrible, One Star. bad, One Star. bad]</td>\n",
       "    </tr>\n",
       "    <tr>\n",
       "      <th>40</th>\n",
       "      <td>40</td>\n",
       "      <td>903</td>\n",
       "      <td>40_star_one_stars_two</td>\n",
       "      <td>[star, one, stars, two, wrong, very, it, not, was, small]</td>\n",
       "      <td>[One Star. Terrible!, One Star. bad, One Star. Disappointed]</td>\n",
       "    </tr>\n",
       "    <tr>\n",
       "      <th>41</th>\n",
       "      <td>41</td>\n",
       "      <td>902</td>\n",
       "      <td>41_star_one_stars_two</td>\n",
       "      <td>[star, one, stars, two, very, good, it, not, too, small]</td>\n",
       "      <td>[One Star. Very bad, One Star. Very bad, One Star. Very bad]</td>\n",
       "    </tr>\n",
       "    <tr>\n",
       "      <th>42</th>\n",
       "      <td>42</td>\n",
       "      <td>898</td>\n",
       "      <td>42_star_one_stars_two</td>\n",
       "      <td>[star, one, stars, two, too, quality, very, good, not, wrong]</td>\n",
       "      <td>[One Star. very disappointed, One Star. Disappointed, One Star. Terrible !!!!!!]</td>\n",
       "    </tr>\n",
       "    <tr>\n",
       "      <th>43</th>\n",
       "      <td>43</td>\n",
       "      <td>895</td>\n",
       "      <td>43_star_one_stars_two</td>\n",
       "      <td>[star, one, stars, two, too, small, not, broken, it, very]</td>\n",
       "      <td>[One Star. Disappointed, One Star. bad, One Star. bad]</td>\n",
       "    </tr>\n",
       "    <tr>\n",
       "      <th>44</th>\n",
       "      <td>44</td>\n",
       "      <td>895</td>\n",
       "      <td>44_star_one_stars_two</td>\n",
       "      <td>[star, one, stars, two, broken, very, not, it, too, to]</td>\n",
       "      <td>[One Star. terrible, One Star. bad, One Star. Bad t]</td>\n",
       "    </tr>\n",
       "    <tr>\n",
       "      <th>45</th>\n",
       "      <td>45</td>\n",
       "      <td>889</td>\n",
       "      <td>45_star_stars_one_two</td>\n",
       "      <td>[star, stars, one, two, very, quality, poor, too, not, it]</td>\n",
       "      <td>[One Star. Terrible, One Star. bad, One Star. Very bad.]</td>\n",
       "    </tr>\n",
       "    <tr>\n",
       "      <th>46</th>\n",
       "      <td>46</td>\n",
       "      <td>886</td>\n",
       "      <td>46_star_one_stars_two</td>\n",
       "      <td>[star, one, stars, two, wrong, very, not, quality, it, small]</td>\n",
       "      <td>[One Star. poor, One Star. Disappointed, One Star. bad.!!!]</td>\n",
       "    </tr>\n",
       "    <tr>\n",
       "      <th>47</th>\n",
       "      <td>47</td>\n",
       "      <td>884</td>\n",
       "      <td>47_star_one_stars_two</td>\n",
       "      <td>[star, one, stars, two, wrong, poor, not, quality, it, to]</td>\n",
       "      <td>[One Star. Terrible!!!, One Star. Disappointed, One Star. Terrible.]</td>\n",
       "    </tr>\n",
       "    <tr>\n",
       "      <th>48</th>\n",
       "      <td>48</td>\n",
       "      <td>884</td>\n",
       "      <td>48_star_one_stars_two</td>\n",
       "      <td>[star, one, stars, two, it, not, very, hard, wrong, broken]</td>\n",
       "      <td>[One Star. Disappointed., One Star. bad, One Star. bad]</td>\n",
       "    </tr>\n",
       "    <tr>\n",
       "      <th>49</th>\n",
       "      <td>49</td>\n",
       "      <td>882</td>\n",
       "      <td>49_star_one_stars_two</td>\n",
       "      <td>[star, one, stars, two, wrong, too, very, not, broken, good]</td>\n",
       "      <td>[One Star. poor, One Star. Disappointed, One Star. Bad product...]</td>\n",
       "    </tr>\n",
       "    <tr>\n",
       "      <th>50</th>\n",
       "      <td>50</td>\n",
       "      <td>880</td>\n",
       "      <td>50_star_one_stars_two</td>\n",
       "      <td>[star, one, stars, two, wrong, not, very, it, too, quality]</td>\n",
       "      <td>[One Star. Terrible...., One Star. bad, One Star. It's bad]</td>\n",
       "    </tr>\n",
       "    <tr>\n",
       "      <th>51</th>\n",
       "      <td>51</td>\n",
       "      <td>879</td>\n",
       "      <td>51_star_one_stars_two</td>\n",
       "      <td>[star, one, stars, two, wrong, small, very, poor, too, not]</td>\n",
       "      <td>[One Star. Terrible, One Star. bad, One Star. bad]</td>\n",
       "    </tr>\n",
       "    <tr>\n",
       "      <th>52</th>\n",
       "      <td>52</td>\n",
       "      <td>878</td>\n",
       "      <td>52_star_one_stars_two</td>\n",
       "      <td>[star, one, stars, two, very, poor, wrong, not, it, quality]</td>\n",
       "      <td>[One Star. Horrible!, One Star. Horrible, One Star. very bad]</td>\n",
       "    </tr>\n",
       "    <tr>\n",
       "      <th>53</th>\n",
       "      <td>53</td>\n",
       "      <td>876</td>\n",
       "      <td>53_star_one_stars_two</td>\n",
       "      <td>[star, one, stars, two, very, broken, not, quality, to, small]</td>\n",
       "      <td>[One Star. Very disappointed!!!!, One Star. bad, One Star. bad]</td>\n",
       "    </tr>\n",
       "    <tr>\n",
       "      <th>54</th>\n",
       "      <td>54</td>\n",
       "      <td>867</td>\n",
       "      <td>54_star_one_stars_two</td>\n",
       "      <td>[star, one, stars, two, wrong, broken, very, not, too, quality]</td>\n",
       "      <td>[One Star. Terrible., One Star. Terrible, One Star. very bad...]</td>\n",
       "    </tr>\n",
       "    <tr>\n",
       "      <th>55</th>\n",
       "      <td>55</td>\n",
       "      <td>863</td>\n",
       "      <td>55_star_one_stars_two</td>\n",
       "      <td>[star, one, stars, two, very, not, wrong, good, it, to]</td>\n",
       "      <td>[One Star. Disappointed in it., One Star. Disappointed, One Star. bad]</td>\n",
       "    </tr>\n",
       "    <tr>\n",
       "      <th>56</th>\n",
       "      <td>56</td>\n",
       "      <td>204</td>\n",
       "      <td>56_star_one_stars_two</td>\n",
       "      <td>[star, one, stars, two, broken, quality, very, poor, was, bad]</td>\n",
       "      <td>[One Star. bad quality, One Star. Bad product, One Star. bad]</td>\n",
       "    </tr>\n",
       "  </tbody>\n",
       "</table>\n",
       "</div>"
      ],
      "text/plain": [
       "    Topic   Count                   Name  \\\n",
       "0       0  611213        0_the_it_to_and   \n",
       "1       1    1013   1_star_one_stars_two   \n",
       "2       2     985   2_star_one_stars_two   \n",
       "3       3     981   3_star_one_stars_two   \n",
       "4       4     981   4_star_one_stars_two   \n",
       "5       5     974   5_star_one_stars_two   \n",
       "6       6     970   6_star_one_stars_two   \n",
       "7       7     969   7_star_one_stars_two   \n",
       "8       8     963   8_star_one_stars_two   \n",
       "9       9     962   9_star_one_stars_two   \n",
       "10     10     961  10_star_one_stars_two   \n",
       "11     11     959  11_star_one_stars_two   \n",
       "12     12     959  12_star_one_stars_two   \n",
       "13     13     958  13_star_one_stars_two   \n",
       "14     14     955  14_star_one_stars_two   \n",
       "15     15     954  15_star_one_stars_two   \n",
       "16     16     953  16_star_one_stars_two   \n",
       "17     17     952  17_star_one_stars_two   \n",
       "18     18     945  18_star_one_stars_two   \n",
       "19     19     944  19_star_one_stars_two   \n",
       "20     20     942  20_star_one_stars_two   \n",
       "21     21     936  21_star_one_stars_two   \n",
       "22     22     932  22_star_one_stars_two   \n",
       "23     23     932  23_star_one_stars_two   \n",
       "24     24     930  24_star_one_stars_two   \n",
       "25     25     928  25_star_one_stars_two   \n",
       "26     26     924  26_star_one_stars_two   \n",
       "27     27     923  27_star_one_stars_two   \n",
       "28     28     922  28_star_one_stars_two   \n",
       "29     29     920  29_star_one_stars_two   \n",
       "30     30     919  30_star_one_stars_two   \n",
       "31     31     916  31_star_one_stars_two   \n",
       "32     32     915  32_star_one_stars_two   \n",
       "33     33     914  33_star_one_stars_two   \n",
       "34     34     912  34_star_one_stars_two   \n",
       "35     35     911  35_star_one_stars_two   \n",
       "36     36     908  36_star_one_stars_two   \n",
       "37     37     907  37_star_one_stars_two   \n",
       "38     38     906  38_star_one_stars_two   \n",
       "39     39     905  39_star_one_stars_two   \n",
       "40     40     903  40_star_one_stars_two   \n",
       "41     41     902  41_star_one_stars_two   \n",
       "42     42     898  42_star_one_stars_two   \n",
       "43     43     895  43_star_one_stars_two   \n",
       "44     44     895  44_star_one_stars_two   \n",
       "45     45     889  45_star_stars_one_two   \n",
       "46     46     886  46_star_one_stars_two   \n",
       "47     47     884  47_star_one_stars_two   \n",
       "48     48     884  48_star_one_stars_two   \n",
       "49     49     882  49_star_one_stars_two   \n",
       "50     50     880  50_star_one_stars_two   \n",
       "51     51     879  51_star_one_stars_two   \n",
       "52     52     878  52_star_one_stars_two   \n",
       "53     53     876  53_star_one_stars_two   \n",
       "54     54     867  54_star_one_stars_two   \n",
       "55     55     863  55_star_one_stars_two   \n",
       "56     56     204  56_star_one_stars_two   \n",
       "\n",
       "                                                      Representation  \\\n",
       "0                     [the, it, to, and, not, this, is, of, for, my]   \n",
       "1       [star, one, stars, two, very, wrong, poor, quality, to, bad]   \n",
       "2             [star, one, stars, two, too, wrong, not, very, to, it]   \n",
       "3       [star, one, stars, two, wrong, not, very, poor, quality, to]   \n",
       "4            [star, one, stars, two, not, it, very, good, to, wrong]   \n",
       "5   [star, one, stars, two, quality, poor, not, broken, good, wrong]   \n",
       "6         [star, one, stars, two, not, quality, very, it, poor, was]   \n",
       "7              [star, one, stars, two, bad, it, not, very, too, was]   \n",
       "8           [star, one, stars, two, wrong, not, small, very, it, to]   \n",
       "9             [star, one, stars, two, not, too, it, wrong, very, to]   \n",
       "10   [star, one, stars, two, very, wrong, too, broken, not, quality]   \n",
       "11          [star, one, stars, two, very, not, it, too, quality, to]   \n",
       "12       [star, one, stars, two, wrong, very, small, not, good, too]   \n",
       "13       [star, one, stars, two, wrong, very, small, too, hard, not]   \n",
       "14         [star, one, stars, two, not, very, bad, too, wrong, poor]   \n",
       "15       [star, one, stars, two, very, too, quality, not, small, it]   \n",
       "16            [star, one, stars, two, good, not, very, bad, it, was]   \n",
       "17      [star, one, stars, two, not, it, broken, wrong, very, small]   \n",
       "18       [star, one, stars, two, wrong, it, very, not, product, too]   \n",
       "19       [star, one, stars, two, too, not, it, very, small, quality]   \n",
       "20         [star, one, stars, two, not, very, bad, quality, too, it]   \n",
       "21        [star, one, stars, two, very, wrong, broken, not, it, too]   \n",
       "22        [star, one, stars, two, very, not, too, it, broken, wrong]   \n",
       "23          [star, one, stars, two, wrong, very, not, it, good, too]   \n",
       "24          [star, one, stars, two, not, very, it, to, broken, poor]   \n",
       "25        [star, one, stars, two, it, not, quality, wrong, very, to]   \n",
       "26         [star, one, stars, two, too, not, wrong, small, very, to]   \n",
       "27        [star, one, stars, two, not, very, it, wrong, broken, bad]   \n",
       "28    [star, one, stars, two, very, wrong, not, broken, good, small]   \n",
       "29           [star, one, stars, two, very, wrong, not, too, it, was]   \n",
       "30       [star, one, stars, two, not, very, good, poor, wrong, hard]   \n",
       "31            [star, one, stars, two, too, not, good, small, to, it]   \n",
       "32           [star, one, stars, two, very, it, bad, not, broken, to]   \n",
       "33        [star, one, stars, two, small, not, too, it, quality, was]   \n",
       "34     [star, one, stars, two, small, very, not, too, quality, poor]   \n",
       "35             [star, one, stars, two, very, wrong, not, it, is, to]   \n",
       "36      [star, one, stars, two, not, very, small, good, too, broken]   \n",
       "37          [star, one, stars, two, wrong, not, very, good, it, bad]   \n",
       "38        [star, one, stars, two, very, broken, small, too, it, not]   \n",
       "39     [star, one, stars, two, very, not, quality, it, poor, broken]   \n",
       "40         [star, one, stars, two, wrong, very, it, not, was, small]   \n",
       "41          [star, one, stars, two, very, good, it, not, too, small]   \n",
       "42     [star, one, stars, two, too, quality, very, good, not, wrong]   \n",
       "43        [star, one, stars, two, too, small, not, broken, it, very]   \n",
       "44           [star, one, stars, two, broken, very, not, it, too, to]   \n",
       "45        [star, stars, one, two, very, quality, poor, too, not, it]   \n",
       "46     [star, one, stars, two, wrong, very, not, quality, it, small]   \n",
       "47        [star, one, stars, two, wrong, poor, not, quality, it, to]   \n",
       "48       [star, one, stars, two, it, not, very, hard, wrong, broken]   \n",
       "49      [star, one, stars, two, wrong, too, very, not, broken, good]   \n",
       "50       [star, one, stars, two, wrong, not, very, it, too, quality]   \n",
       "51       [star, one, stars, two, wrong, small, very, poor, too, not]   \n",
       "52      [star, one, stars, two, very, poor, wrong, not, it, quality]   \n",
       "53    [star, one, stars, two, very, broken, not, quality, to, small]   \n",
       "54   [star, one, stars, two, wrong, broken, very, not, too, quality]   \n",
       "55           [star, one, stars, two, very, not, wrong, good, it, to]   \n",
       "56    [star, one, stars, two, broken, quality, very, poor, was, bad]   \n",
       "\n",
       "                                                                                                                                                                                                                                                                                                                                                                                                                                                                                                                                                                                                                                                                                                                                                                                                                                                                                                                                                                                                                                                                                                                                                                                                                                                                                                                                                                                                                                                                                                                                                                                                                                   Representative_Docs  \n",
       "0   [All broken after a month of use. So disappointed, out of the 6 pack we have only  1 left in less than 60 days. The charging port snapped off on all of them. The one I pictured was after 1 week use. I unplugged my iPhone and it just fell off. No way to contact seller, so its a big waste of money., Useless. You can do the same things without the firestick you can with it. Literally a useless product. Bought it thinking it an alternative to cable and satellite. Turns out you still have to pay for cable. It does nothing for me and I regret purchasing it. A waste of money and time. They advertise something that does nothing your smart tv can't do without it. Save yourself the money. Amazon sucks. I'm discontinuing my prime account as well. Second time I've been disappointed by Amazon this month. They don't give you refunds but after 1-2 weeks. Well Amazon you can't have anymore of my Money, Absolutely awful look at pics and read review. First off they sent me instructions for installing a screen on a cell phone (shown in picture) and I dont think that was a mistake that is just all they send. There are no sticker pull tabs to help with installation. It says just drop it on. Once dropped on bubbles everywhere and as you can see in the picture impossible to get them all the way out. They dont even send a squeegee you have to hack up the box with a knife and use that. Its not even close to being tempered glass as advertised. 1,000% plastic. And the touchscreen feature barely works with it on also opposite of whats advertised. Do yourself a favor and do not buy this!]  \n",
       "1                                                                                                                                                                                                                                                                                                                                                                                                                                                                                                                                                                                                                                                                                                                                                                                                                                                                                                                                                                                                                                                                                                                                                                                                                                                                                                                                                                                                                                                                                                                                                                                              [One Star. Terrible, One Star. bad, One Star. Terrible]  \n",
       "2                                                                                                                                                                                                                                                                                                                                                                                                                                                                                                                                                                                                                                                                                                                                                                                                                                                                                                                                                                                                                                                                                                                                                                                                                                                                                                                                                                                                                                                                                                                                                                                               [One Star. Terrible, One Star. bad, One Star. T.T bad]  \n",
       "3                                                                                                                                                                                                                                                                                                                                                                                                                                                                                                                                                                                                                                                                                                                                                                                                                                                                                                                                                                                                                                                                                                                                                                                                                                                                                                                                                                                                                                                                                                                                                                                      [One Star. Very disappointed, One Star. bad!!!!, One Star. bad]  \n",
       "4                                                                                                                                                                                                                                                                                                                                                                                                                                                                                                                                                                                                                                                                                                                                                                                                                                                                                                                                                                                                                                                                                                                                                                                                                                                                                                                                                                                                                                                                                                                                                                                             [One Star. Terrible!, One Star. bad, One Star. very bad]  \n",
       "5                                                                                                                                                                                                                                                                                                                                                                                                                                                                                                                                                                                                                                                                                                                                                                                                                                                                                                                                                                                                                                                                                                                                                                                                                                                                                                                                                                                                                                                                                                                                                                                                [One Star. poor, One Star. Poor!, One Star. Very bad]  \n",
       "6                                                                                                                                                                                                                                                                                                                                                                                                                                                                                                                                                                                                                                                                                                                                                                                                                                                                                                                                                                                                                                                                                                                                                                                                                                                                                                                                                                                                                                                                                                                                                                                          [One Star. bad quality., One Star. Terrible, One Star. bad]  \n",
       "7                                                                                                                                                                                                                                                                                                                                                                                                                                                                                                                                                                                                                                                                                                                                                                                                                                                                                                                                                                                                                                                                                                                                                                                                                                                                                                                                                                                                                                                                                                                                                                                [One Star. bad product!!!!!!!, One Star. Disappointed, One Star. bad]  \n",
       "8                                                                                                                                                                                                                                                                                                                                                                                                                                                                                                                                                                                                                                                                                                                                                                                                                                                                                                                                                                                                                                                                                                                                                                                                                                                                                                                                                                                                                                                                                                                                                                                         [One Star. Very bad, One Star. Terrible, One Star. It's bad]  \n",
       "9                                                                                                                                                                                                                                                                                                                                                                                                                                                                                                                                                                                                                                                                                                                                                                                                                                                                                                                                                                                                                                                                                                                                                                                                                                                                                                                                                                                                                                                                                                                                                                                           [One Star. Bad product., One Star. bad one, One Star. bad]  \n",
       "10                                                                                                                                                                                                                                                                                                                                                                                                                                                                                                                                                                                                                                                                                                                                                                                                                                                                                                                                                                                                                                                                                                                                                                                                                                                                                                                                                                                                                                                                                                                                                                                        [One Star. Very bad, One Star. It's very bad, One Star. bad]  \n",
       "11                                                                                                                                                                                                                                                                                                                                                                                                                                                                                                                                                                                                                                                                                                                                                                                                                                                                                                                                                                                                                                                                                                                                                                                                                                                                                                                                                                                                                                                                                                                                                                                            [One Star. Terrible!, One Star. bad, One Star. Very bad]  \n",
       "12                                                                                                                                                                                                                                                                                                                                                                                                                                                                                                                                                                                                                                                                                                                                                                                                                                                                                                                                                                                                                                                                                                                                                                                                                                                                                                                                                                                                                                                                                                                                                                                      [One Star. it was bad, One Star. Disappointed!, One Star. bad]  \n",
       "13                                                                                                                                                                                                                                                                                                                                                                                                                                                                                                                                                                                                                                                                                                                                                                                                                                                                                                                                                                                                                                                                                                                                                                                                                                                                                                                                                                                                                                                                                                                                                                                   [One Star. Horrible, One Star. Horrible, One Star. it's terrible]  \n",
       "14                                                                                                                                                                                                                                                                                                                                                                                                                                                                                                                                                                                                                                                                                                                                                                                                                                                                                                                                                                                                                                                                                                                                                                                                                                                                                                                                                                                                                                                                                                                                                                                                     [One Star. bad, One Star. bad.., One Star. bad]  \n",
       "15                                                                                                                                                                                                                                                                                                                                                                                                                                                                                                                                                                                                                                                                                                                                                                                                                                                                                                                                                                                                                                                                                                                                                                                                                                                                                                                                                                                                                                                                                                                                                                                       [One Star. terrible, One Star. Terrible., One Star. It's bad]  \n",
       "16                                                                                                                                                                                                                                                                                                                                                                                                                                                                                                                                                                                                                                                                                                                                                                                                                                                                                                                                                                                                                                                                                                                                                                                                                                                                                                                                                                                                                                                                                                                                                                                                [One Star. It is bad., One Star. bad, One Star. bad]  \n",
       "17                                                                                                                                                                                                                                                                                                                                                                                                                                                                                                                                                                                                                                                                                                                                                                                                                                                                                                                                                                                                                                                                                                                                                                                                                                                                                                                                                                                                                                                                                                                                                                                 [One Star. horrible, One Star. horrible, One Star. It was very bad]  \n",
       "18                                                                                                                                                                                                                                                                                                                                                                                                                                                                                                                                                                                                                                                                                                                                                                                                                                                                                                                                                                                                                                                                                                                                                                                                                                                                                                                                                                                                                                                                                                                                                                                      [One Star. Horrible, One Star. Terrible, One Star. Horrible !]  \n",
       "19                                                                                                                                                                                                                                                                                                                                                                                                                                                                                                                                                                                                                                                                                                                                                                                                                                                                                                                                                                                                                                                                                                                                                                                                                                                                                                                                                                                                                                                                                                                                                                                             [One Star. Terrible, One Star. Very bad, One Star. bad]  \n",
       "20                                                                                                                                                                                                                                                                                                                                                                                                                                                                                                                                                                                                                                                                                                                                                                                                                                                                                                                                                                                                                                                                                                                                                                                                                                                                                                                                                                                                                                                                                                                                                                                         [One Star. bad quality, One Star. poor, One Star. Very bad]  \n",
       "21                                                                                                                                                                                                                                                                                                                                                                                                                                                                                                                                                                                                                                                                                                                                                                                                                                                                                                                                                                                                                                                                                                                                                                                                                                                                                                                                                                                                                                                                                                                                                                                 [One Star. Very disappointed :(, One Star. Very bad, One Star. bad]  \n",
       "22                                                                                                                                                                                                                                                                                                                                                                                                                                                                                                                                                                                                                                                                                                                                                                                                                                                                                                                                                                                                                                                                                                                                                                                                                                                                                                                                                                                                                                                                                                                                                                                    [One Star. Bad work, One Star. Very disappointed, One Star. bad]  \n",
       "23                                                                                                                                                                                                                                                                                                                                                                                                                                                                                                                                                                                                                                                                                                                                                                                                                                                                                                                                                                                                                                                                                                                                                                                                                                                                                                                                                                                                                                                                                                                                                                            [One Star. Very disappointed, One Star. terrible, One Star. Terrible...]  \n",
       "24                                                                                                                                                                                                                                                                                                                                                                                                                                                                                                                                                                                                                                                                                                                                                                                                                                                                                                                                                                                                                                                                                                                                                                                                                                                                                                                                                                                                                                                                                                                                                                                                  [One Star. Very bad, One Star. bad, One Star. bad]  \n",
       "25                                                                                                                                                                                                                                                                                                                                                                                                                                                                                                                                                                                                                                                                                                                                                                                                                                                                                                                                                                                                                                                                                                                                                                                                                                                                                                                                                                                                                                                                                                                                                                                  [One Star. Bad Quality, One Star. Bad quality, One Star. very bad]  \n",
       "26                                                                                                                                                                                                                                                                                                                                                                                                                                                                                                                                                                                                                                                                                                                                                                                                                                                                                                                                                                                                                                                                                                                                                                                                                                                                                                                                                                                                                                                                                                                                                                                [One Star. Terrible product., One Star. Bad quality!, One Star. bad]  \n",
       "27                                                                                                                                                                                                                                                                                                                                                                                                                                                                                                                                                                                                                                                                                                                                                                                                                                                                                                                                                                                                                                                                                                                                                                                                                                                                                                                                                                                                                                                                                                                                                                                                       [One Star. bad, One Star. bad, One Star. bad]  \n",
       "28                                                                                                                                                                                                                                                                                                                                                                                                                                                                                                                                                                                                                                                                                                                                                                                                                                                                                                                                                                                                                                                                                                                                                                                                                                                                                                                                                                                                                                                                                                                                                                                                       [One Star. bad, One Star. bad, One Star. bad]  \n",
       "29                                                                                                                                                                                                                                                                                                                                                                                                                                                                                                                                                                                                                                                                                                                                                                                                                                                                                                                                                                                                                                                                                                                                                                                                                                                                                                                                                                                                                                                                                                                                                                                         [One Star. Horrible!, One Star. bad, One Star. Bad product]  \n",
       "30                                                                                                                                                                                                                                                                                                                                                                                                                                                                                                                                                                                                                                                                                                                                                                                                                                                                                                                                                                                                                                                                                                                                                                                                                                                                                                                                                                                                                                                                                                                                                                                                       [One Star. bad, One Star. bad, One Star. bad]  \n",
       "31                                                                                                                                                                                                                                                                                                                                                                                                                                                                                                                                                                                                                                                                                                                                                                                                                                                                                                                                                                                                                                                                                                                                                                                                                                                                                                                                                                                                                                                                                                                                                                                                  [One Star. Very bad, One Star. bad, One Star. bad]  \n",
       "32                                                                                                                                                                                                                                                                                                                                                                                                                                                                                                                                                                                                                                                                                                                                                                                                                                                                                                                                                                                                                                                                                                                                                                                                                                                                                                                                                                                                                                                                                                                                                                                                [One Star. poor, One Star. Terrible., One Star. bad]  \n",
       "33                                                                                                                                                                                                                                                                                                                                                                                                                                                                                                                                                                                                                                                                                                                                                                                                                                                                                                                                                                                                                                                                                                                                                                                                                                                                                                                                                                                                                                                                                                                                                                                                  [One Star. terrible, One Star. bad, One Star. bad]  \n",
       "34                                                                                                                                                                                                                                                                                                                                                                                                                                                                                                                                                                                                                                                                                                                                                                                                                                                                                                                                                                                                                                                                                                                                                                                                                                                                                                                                                                                                                                                                                                                                                                                         [One Star. very bad, One Star. Disappointed, One Star. bad]  \n",
       "35                                                                                                                                                                                                                                                                                                                                                                                                                                                                                                                                                                                                                                                                                                                                                                                                                                                                                                                                                                                                                                                                                                                                                                                                                                                                                                                                                                                                                                                                                                                                                                                        [One Star. poor, One Star. Very bad, One Star. Disappointed]  \n",
       "36                                                                                                                                                                                                                                                                                                                                                                                                                                                                                                                                                                                                                                                                                                                                                                                                                                                                                                                                                                                                                                                                                                                                                                                                                                                                                                                                                                                                                                                                                                                                                                                             [One Star. Horrible, One Star. Terrible, One Star. bad]  \n",
       "37                                                                                                                                                                                                                                                                                                                                                                                                                                                                                                                                                                                                                                                                                                                                                                                                                                                                                                                                                                                                                                                                                                                                                                                                                                                                                                                                                                                                                                                                                                                                                                                            [One Star. Poor, One Star. very bad, One Star. very bad]  \n",
       "38                                                                                                                                                                                                                                                                                                                                                                                                                                                                                                                                                                                                                                                                                                                                                                                                                                                                                                                                                                                                                                                                                                                                                                                                                                                                                                                                                                                                                                                                                                                                                                      [One Star. Terrible, One Star. bad, One Star. one star ...quality is not good]  \n",
       "39                                                                                                                                                                                                                                                                                                                                                                                                                                                                                                                                                                                                                                                                                                                                                                                                                                                                                                                                                                                                                                                                                                                                                                                                                                                                                                                                                                                                                                                                                                                                                                                                  [One Star. Terrible, One Star. bad, One Star. bad]  \n",
       "40                                                                                                                                                                                                                                                                                                                                                                                                                                                                                                                                                                                                                                                                                                                                                                                                                                                                                                                                                                                                                                                                                                                                                                                                                                                                                                                                                                                                                                                                                                                                                                                        [One Star. Terrible!, One Star. bad, One Star. Disappointed]  \n",
       "41                                                                                                                                                                                                                                                                                                                                                                                                                                                                                                                                                                                                                                                                                                                                                                                                                                                                                                                                                                                                                                                                                                                                                                                                                                                                                                                                                                                                                                                                                                                                                                                        [One Star. Very bad, One Star. Very bad, One Star. Very bad]  \n",
       "42                                                                                                                                                                                                                                                                                                                                                                                                                                                                                                                                                                                                                                                                                                                                                                                                                                                                                                                                                                                                                                                                                                                                                                                                                                                                                                                                                                                                                                                                                                                                                                    [One Star. very disappointed, One Star. Disappointed, One Star. Terrible !!!!!!]  \n",
       "43                                                                                                                                                                                                                                                                                                                                                                                                                                                                                                                                                                                                                                                                                                                                                                                                                                                                                                                                                                                                                                                                                                                                                                                                                                                                                                                                                                                                                                                                                                                                                                                              [One Star. Disappointed, One Star. bad, One Star. bad]  \n",
       "44                                                                                                                                                                                                                                                                                                                                                                                                                                                                                                                                                                                                                                                                                                                                                                                                                                                                                                                                                                                                                                                                                                                                                                                                                                                                                                                                                                                                                                                                                                                                                                                                [One Star. terrible, One Star. bad, One Star. Bad t]  \n",
       "45                                                                                                                                                                                                                                                                                                                                                                                                                                                                                                                                                                                                                                                                                                                                                                                                                                                                                                                                                                                                                                                                                                                                                                                                                                                                                                                                                                                                                                                                                                                                                                                            [One Star. Terrible, One Star. bad, One Star. Very bad.]  \n",
       "46                                                                                                                                                                                                                                                                                                                                                                                                                                                                                                                                                                                                                                                                                                                                                                                                                                                                                                                                                                                                                                                                                                                                                                                                                                                                                                                                                                                                                                                                                                                                                                                         [One Star. poor, One Star. Disappointed, One Star. bad.!!!]  \n",
       "47                                                                                                                                                                                                                                                                                                                                                                                                                                                                                                                                                                                                                                                                                                                                                                                                                                                                                                                                                                                                                                                                                                                                                                                                                                                                                                                                                                                                                                                                                                                                                                                [One Star. Terrible!!!, One Star. Disappointed, One Star. Terrible.]  \n",
       "48                                                                                                                                                                                                                                                                                                                                                                                                                                                                                                                                                                                                                                                                                                                                                                                                                                                                                                                                                                                                                                                                                                                                                                                                                                                                                                                                                                                                                                                                                                                                                                                             [One Star. Disappointed., One Star. bad, One Star. bad]  \n",
       "49                                                                                                                                                                                                                                                                                                                                                                                                                                                                                                                                                                                                                                                                                                                                                                                                                                                                                                                                                                                                                                                                                                                                                                                                                                                                                                                                                                                                                                                                                                                                                                                  [One Star. poor, One Star. Disappointed, One Star. Bad product...]  \n",
       "50                                                                                                                                                                                                                                                                                                                                                                                                                                                                                                                                                                                                                                                                                                                                                                                                                                                                                                                                                                                                                                                                                                                                                                                                                                                                                                                                                                                                                                                                                                                                                                                         [One Star. Terrible...., One Star. bad, One Star. It's bad]  \n",
       "51                                                                                                                                                                                                                                                                                                                                                                                                                                                                                                                                                                                                                                                                                                                                                                                                                                                                                                                                                                                                                                                                                                                                                                                                                                                                                                                                                                                                                                                                                                                                                                                                  [One Star. Terrible, One Star. bad, One Star. bad]  \n",
       "52                                                                                                                                                                                                                                                                                                                                                                                                                                                                                                                                                                                                                                                                                                                                                                                                                                                                                                                                                                                                                                                                                                                                                                                                                                                                                                                                                                                                                                                                                                                                                                                       [One Star. Horrible!, One Star. Horrible, One Star. very bad]  \n",
       "53                                                                                                                                                                                                                                                                                                                                                                                                                                                                                                                                                                                                                                                                                                                                                                                                                                                                                                                                                                                                                                                                                                                                                                                                                                                                                                                                                                                                                                                                                                                                                                                     [One Star. Very disappointed!!!!, One Star. bad, One Star. bad]  \n",
       "54                                                                                                                                                                                                                                                                                                                                                                                                                                                                                                                                                                                                                                                                                                                                                                                                                                                                                                                                                                                                                                                                                                                                                                                                                                                                                                                                                                                                                                                                                                                                                                                    [One Star. Terrible., One Star. Terrible, One Star. very bad...]  \n",
       "55                                                                                                                                                                                                                                                                                                                                                                                                                                                                                                                                                                                                                                                                                                                                                                                                                                                                                                                                                                                                                                                                                                                                                                                                                                                                                                                                                                                                                                                                                                                                                                              [One Star. Disappointed in it., One Star. Disappointed, One Star. bad]  \n",
       "56                                                                                                                                                                                                                                                                                                                                                                                                                                                                                                                                                                                                                                                                                                                                                                                                                                                                                                                                                                                                                                                                                                                                                                                                                                                                                                                                                                                                                                                                                                                                                                                       [One Star. bad quality, One Star. Bad product, One Star. bad]  "
      ]
     },
     "execution_count": 66,
     "metadata": {},
     "output_type": "execute_result"
    }
   ],
   "source": [
    "merged_model.get_topic_info()"
   ]
  },
  {
   "cell_type": "code",
   "execution_count": 65,
   "metadata": {},
   "outputs": [],
   "source": [
    "merged_model.merge_topics(df['title_text_review'].tolist(), merge_0)"
   ]
  },
  {
   "cell_type": "code",
   "execution_count": 50,
   "metadata": {},
   "outputs": [],
   "source": [
    "connections = defaultdict(set)\n",
    "\n",
    "for a, b, sim in similar_topic_pairs:\n",
    "    if sim > threshold:\n",
    "        connections[a].add(b)\n",
    "        connections[b].add(a)"
   ]
  },
  {
   "cell_type": "code",
   "execution_count": 55,
   "metadata": {},
   "outputs": [],
   "source": [
    "def find_group(topic, group_map):\n",
    "    # find root\n",
    "    root = topic\n",
    "    while group_map[root] != root:\n",
    "        root = group_map[root]\n",
    "    # path compression\n",
    "    while topic != root:\n",
    "        next = group_map[topic]\n",
    "        group_map[topic] = root\n",
    "        topic = next\n",
    "    return root\n",
    "\n",
    "group_map = {i: i for i in connections}  # initialize each topic as its own group\n",
    "\n",
    "for topic in connections:\n",
    "    for connected_topic in connections[topic]:\n",
    "        root1 = find_group(topic, group_map)\n",
    "        root2 = find_group(connected_topic, group_map)\n",
    "        if root1 != root2:\n",
    "            group_map[root2] = root1  # union\n",
    "\n",
    "merged_groups = defaultdict(set)\n",
    "for topic, root in group_map.items():\n",
    "    merged_groups[find_group(root, group_map)].add(topic)\n"
   ]
  },
  {
   "cell_type": "code",
   "execution_count": null,
   "metadata": {},
   "outputs": [],
   "source": [
    "for group in merged_groups.values():\n",
    "    if len(group) > 1:  # We only need to merge if there are at least two topics in the group\n",
    "        # Ensure documents are correctly defined\n",
    "        docs = df['title_text_review'].tolist()  # Ensure this pulls the documents correctly\n",
    "        merged_model.merge_topics(docs, list(group))"
   ]
  },
  {
   "cell_type": "code",
   "execution_count": 58,
   "metadata": {},
   "outputs": [
    {
     "data": {
      "text/html": [
       "<div>\n",
       "<style scoped>\n",
       "    .dataframe tbody tr th:only-of-type {\n",
       "        vertical-align: middle;\n",
       "    }\n",
       "\n",
       "    .dataframe tbody tr th {\n",
       "        vertical-align: top;\n",
       "    }\n",
       "\n",
       "    .dataframe thead th {\n",
       "        text-align: right;\n",
       "    }\n",
       "</style>\n",
       "<table border=\"1\" class=\"dataframe\">\n",
       "  <thead>\n",
       "    <tr style=\"text-align: right;\">\n",
       "      <th></th>\n",
       "      <th>Topic</th>\n",
       "      <th>Count</th>\n",
       "      <th>Name</th>\n",
       "      <th>Representation</th>\n",
       "      <th>Representative_Docs</th>\n",
       "    </tr>\n",
       "  </thead>\n",
       "  <tbody>\n",
       "    <tr>\n",
       "      <th>0</th>\n",
       "      <td>0</td>\n",
       "      <td>611213</td>\n",
       "      <td>0_the_it_to_and</td>\n",
       "      <td>[the, it, to, and, not, this, is, of, for, my]</td>\n",
       "      <td>[All broken after a month of use. So disappointed, out of the 6 pack we have only  1 left in less than 60 days. The charging port snapped off on all of them. The one I pictured was after 1 week use. I unplugged my iPhone and it just fell off. No way to contact seller, so its a big waste of money., Useless. You can do the same things without the firestick you can with it. Literally a useless product. Bought it thinking it an alternative to cable and satellite. Turns out you still have to pay for cable. It does nothing for me and I regret purchasing it. A waste of money and time. They advertise something that does nothing your smart tv can't do without it. Save yourself the money. Amazon sucks. I'm discontinuing my prime account as well. Second time I've been disappointed by Amazon this month. They don't give you refunds but after 1-2 weeks. Well Amazon you can't have anymore of my Money, Absolutely awful look at pics and read review. First off they sent me instructions for installing a screen on a cell phone (shown in picture) and I dont think that was a mistake that is just all they send. There are no sticker pull tabs to help with installation. It says just drop it on. Once dropped on bubbles everywhere and as you can see in the picture impossible to get them all the way out. They dont even send a squeegee you have to hack up the box with a knife and use that. Its not even close to being tempered glass as advertised. 1,000% plastic. And the touchscreen feature barely works with it on also opposite of whats advertised. Do yourself a favor and do not buy this!]</td>\n",
       "    </tr>\n",
       "    <tr>\n",
       "      <th>1</th>\n",
       "      <td>1</td>\n",
       "      <td>25928</td>\n",
       "      <td>1_star_one_stars_two</td>\n",
       "      <td>[star, one, stars, two, not, it, very, to, the, wrong]</td>\n",
       "      <td>[One Star. Terrible, One Star. bad, One Star. Terrible]</td>\n",
       "    </tr>\n",
       "    <tr>\n",
       "      <th>2</th>\n",
       "      <td>2</td>\n",
       "      <td>985</td>\n",
       "      <td>2_star_one_stars_two</td>\n",
       "      <td>[star, one, stars, two, not, to, it, very, too, wrong]</td>\n",
       "      <td>[One Star. Terrible, One Star. bad, One Star. T.T bad]</td>\n",
       "    </tr>\n",
       "    <tr>\n",
       "      <th>3</th>\n",
       "      <td>3</td>\n",
       "      <td>981</td>\n",
       "      <td>3_star_one_stars_two</td>\n",
       "      <td>[star, one, stars, two, it, not, very, to, bad, good]</td>\n",
       "      <td>[One Star. Very disappointed, One Star. bad!!!!, One Star. bad]</td>\n",
       "    </tr>\n",
       "    <tr>\n",
       "      <th>4</th>\n",
       "      <td>4</td>\n",
       "      <td>970</td>\n",
       "      <td>4_star_one_stars_two</td>\n",
       "      <td>[star, one, stars, two, not, it, quality, very, to, poor]</td>\n",
       "      <td>[One Star. Terrible!, One Star. bad, One Star. very bad]</td>\n",
       "    </tr>\n",
       "    <tr>\n",
       "      <th>5</th>\n",
       "      <td>5</td>\n",
       "      <td>963</td>\n",
       "      <td>5_star_one_stars_two</td>\n",
       "      <td>[star, one, stars, two, not, wrong, very, it, to, the]</td>\n",
       "      <td>[One Star. poor, One Star. Poor!, One Star. Very bad]</td>\n",
       "    </tr>\n",
       "    <tr>\n",
       "      <th>6</th>\n",
       "      <td>6</td>\n",
       "      <td>961</td>\n",
       "      <td>6_star_one_stars_two</td>\n",
       "      <td>[star, one, stars, two, very, not, it, wrong, too, to]</td>\n",
       "      <td>[One Star. bad quality., One Star. Terrible, One Star. bad]</td>\n",
       "    </tr>\n",
       "    <tr>\n",
       "      <th>7</th>\n",
       "      <td>7</td>\n",
       "      <td>959</td>\n",
       "      <td>7_star_one_stars_two</td>\n",
       "      <td>[star, one, stars, two, not, it, very, to, wrong, small]</td>\n",
       "      <td>[One Star. bad product!!!!!!!, One Star. Disappointed, One Star. bad]</td>\n",
       "    </tr>\n",
       "    <tr>\n",
       "      <th>8</th>\n",
       "      <td>8</td>\n",
       "      <td>955</td>\n",
       "      <td>8_star_one_stars_two</td>\n",
       "      <td>[star, one, stars, two, not, very, it, bad, to, the]</td>\n",
       "      <td>[One Star. Very bad, One Star. Terrible, One Star. It's bad]</td>\n",
       "    </tr>\n",
       "    <tr>\n",
       "      <th>9</th>\n",
       "      <td>9</td>\n",
       "      <td>953</td>\n",
       "      <td>9_star_one_stars_two</td>\n",
       "      <td>[star, one, stars, two, not, it, very, good, bad, to]</td>\n",
       "      <td>[One Star. Bad product., One Star. bad one, One Star. bad]</td>\n",
       "    </tr>\n",
       "    <tr>\n",
       "      <th>10</th>\n",
       "      <td>10</td>\n",
       "      <td>945</td>\n",
       "      <td>10_star_one_stars_two</td>\n",
       "      <td>[star, one, stars, two, it, not, to, very, product, wrong]</td>\n",
       "      <td>[One Star. Very bad, One Star. It's very bad, One Star. bad]</td>\n",
       "    </tr>\n",
       "    <tr>\n",
       "      <th>11</th>\n",
       "      <td>11</td>\n",
       "      <td>942</td>\n",
       "      <td>11_star_one_stars_two</td>\n",
       "      <td>[star, one, stars, two, not, very, it, to, bad, quality]</td>\n",
       "      <td>[One Star. Terrible!, One Star. bad, One Star. Very bad]</td>\n",
       "    </tr>\n",
       "    <tr>\n",
       "      <th>12</th>\n",
       "      <td>12</td>\n",
       "      <td>932</td>\n",
       "      <td>12_star_one_stars_two</td>\n",
       "      <td>[star, one, stars, two, not, it, very, to, was, too]</td>\n",
       "      <td>[One Star. it was bad, One Star. Disappointed!, One Star. bad]</td>\n",
       "    </tr>\n",
       "    <tr>\n",
       "      <th>13</th>\n",
       "      <td>13</td>\n",
       "      <td>930</td>\n",
       "      <td>13_star_one_stars_two</td>\n",
       "      <td>[star, one, stars, two, not, it, very, to, the, is]</td>\n",
       "      <td>[One Star. Horrible, One Star. Horrible, One Star. it's terrible]</td>\n",
       "    </tr>\n",
       "    <tr>\n",
       "      <th>14</th>\n",
       "      <td>14</td>\n",
       "      <td>924</td>\n",
       "      <td>14_star_one_stars_two</td>\n",
       "      <td>[star, one, stars, two, not, too, it, to, wrong, very]</td>\n",
       "      <td>[One Star. bad, One Star. bad.., One Star. bad]</td>\n",
       "    </tr>\n",
       "    <tr>\n",
       "      <th>15</th>\n",
       "      <td>15</td>\n",
       "      <td>922</td>\n",
       "      <td>15_star_one_stars_two</td>\n",
       "      <td>[star, one, stars, two, very, not, it, wrong, broken, to]</td>\n",
       "      <td>[One Star. terrible, One Star. Terrible., One Star. It's bad]</td>\n",
       "    </tr>\n",
       "    <tr>\n",
       "      <th>16</th>\n",
       "      <td>16</td>\n",
       "      <td>919</td>\n",
       "      <td>16_star_one_stars_two</td>\n",
       "      <td>[star, one, stars, two, not, very, to, it, poor, good]</td>\n",
       "      <td>[One Star. It is bad., One Star. bad, One Star. bad]</td>\n",
       "    </tr>\n",
       "    <tr>\n",
       "      <th>17</th>\n",
       "      <td>17</td>\n",
       "      <td>915</td>\n",
       "      <td>17_star_one_stars_two</td>\n",
       "      <td>[star, one, stars, two, it, very, not, to, bad, is]</td>\n",
       "      <td>[One Star. horrible, One Star. horrible, One Star. It was very bad]</td>\n",
       "    </tr>\n",
       "    <tr>\n",
       "      <th>18</th>\n",
       "      <td>18</td>\n",
       "      <td>912</td>\n",
       "      <td>18_star_one_stars_two</td>\n",
       "      <td>[star, one, stars, two, not, very, it, small, to, quality]</td>\n",
       "      <td>[One Star. Horrible, One Star. Terrible, One Star. Horrible !]</td>\n",
       "    </tr>\n",
       "    <tr>\n",
       "      <th>19</th>\n",
       "      <td>19</td>\n",
       "      <td>908</td>\n",
       "      <td>19_star_one_stars_two</td>\n",
       "      <td>[star, one, stars, two, not, very, it, to, is, good]</td>\n",
       "      <td>[One Star. Terrible, One Star. Very bad, One Star. bad]</td>\n",
       "    </tr>\n",
       "    <tr>\n",
       "      <th>20</th>\n",
       "      <td>20</td>\n",
       "      <td>906</td>\n",
       "      <td>20_star_one_stars_two</td>\n",
       "      <td>[star, one, stars, two, it, very, not, to, broken, too]</td>\n",
       "      <td>[One Star. bad quality, One Star. poor, One Star. Very bad]</td>\n",
       "    </tr>\n",
       "    <tr>\n",
       "      <th>21</th>\n",
       "      <td>21</td>\n",
       "      <td>903</td>\n",
       "      <td>21_star_one_stars_two</td>\n",
       "      <td>[star, one, stars, two, it, not, very, to, was, the]</td>\n",
       "      <td>[One Star. Very disappointed :(, One Star. Very bad, One Star. bad]</td>\n",
       "    </tr>\n",
       "    <tr>\n",
       "      <th>22</th>\n",
       "      <td>22</td>\n",
       "      <td>898</td>\n",
       "      <td>22_star_one_stars_two</td>\n",
       "      <td>[star, one, stars, two, not, it, very, quality, too, good]</td>\n",
       "      <td>[One Star. Bad work, One Star. Very disappointed, One Star. bad]</td>\n",
       "    </tr>\n",
       "    <tr>\n",
       "      <th>23</th>\n",
       "      <td>23</td>\n",
       "      <td>895</td>\n",
       "      <td>23_star_one_stars_two</td>\n",
       "      <td>[star, one, stars, two, not, it, very, to, broken, the]</td>\n",
       "      <td>[One Star. Very disappointed, One Star. terrible, One Star. Terrible...]</td>\n",
       "    </tr>\n",
       "    <tr>\n",
       "      <th>24</th>\n",
       "      <td>24</td>\n",
       "      <td>886</td>\n",
       "      <td>24_star_one_stars_two</td>\n",
       "      <td>[star, one, stars, two, not, it, very, quality, wrong, to]</td>\n",
       "      <td>[One Star. Very bad, One Star. bad, One Star. bad]</td>\n",
       "    </tr>\n",
       "    <tr>\n",
       "      <th>25</th>\n",
       "      <td>25</td>\n",
       "      <td>884</td>\n",
       "      <td>25_star_one_stars_two</td>\n",
       "      <td>[star, one, stars, two, it, not, very, to, the, hard]</td>\n",
       "      <td>[One Star. Bad Quality, One Star. Bad quality, One Star. very bad]</td>\n",
       "    </tr>\n",
       "    <tr>\n",
       "      <th>26</th>\n",
       "      <td>26</td>\n",
       "      <td>880</td>\n",
       "      <td>26_star_one_stars_two</td>\n",
       "      <td>[star, one, stars, two, not, it, wrong, to, very, quality]</td>\n",
       "      <td>[One Star. Terrible product., One Star. Bad quality!, One Star. bad]</td>\n",
       "    </tr>\n",
       "    <tr>\n",
       "      <th>27</th>\n",
       "      <td>27</td>\n",
       "      <td>878</td>\n",
       "      <td>27_star_one_stars_two</td>\n",
       "      <td>[star, one, stars, two, it, not, very, poor, wrong, to]</td>\n",
       "      <td>[One Star. bad, One Star. bad, One Star. bad]</td>\n",
       "    </tr>\n",
       "    <tr>\n",
       "      <th>28</th>\n",
       "      <td>28</td>\n",
       "      <td>867</td>\n",
       "      <td>28_star_one_stars_two</td>\n",
       "      <td>[star, one, stars, two, not, very, it, broken, wrong, to]</td>\n",
       "      <td>[One Star. bad, One Star. bad, One Star. bad]</td>\n",
       "    </tr>\n",
       "    <tr>\n",
       "      <th>29</th>\n",
       "      <td>29</td>\n",
       "      <td>204</td>\n",
       "      <td>29_star_one_stars_two</td>\n",
       "      <td>[star, one, stars, two, broken, quality, it, very, was, bad]</td>\n",
       "      <td>[One Star. Horrible!, One Star. bad, One Star. Bad product]</td>\n",
       "    </tr>\n",
       "  </tbody>\n",
       "</table>\n",
       "</div>"
      ],
      "text/plain": [
       "    Topic   Count                   Name  \\\n",
       "0       0  611213        0_the_it_to_and   \n",
       "1       1   25928   1_star_one_stars_two   \n",
       "2       2     985   2_star_one_stars_two   \n",
       "3       3     981   3_star_one_stars_two   \n",
       "4       4     970   4_star_one_stars_two   \n",
       "5       5     963   5_star_one_stars_two   \n",
       "6       6     961   6_star_one_stars_two   \n",
       "7       7     959   7_star_one_stars_two   \n",
       "8       8     955   8_star_one_stars_two   \n",
       "9       9     953   9_star_one_stars_two   \n",
       "10     10     945  10_star_one_stars_two   \n",
       "11     11     942  11_star_one_stars_two   \n",
       "12     12     932  12_star_one_stars_two   \n",
       "13     13     930  13_star_one_stars_two   \n",
       "14     14     924  14_star_one_stars_two   \n",
       "15     15     922  15_star_one_stars_two   \n",
       "16     16     919  16_star_one_stars_two   \n",
       "17     17     915  17_star_one_stars_two   \n",
       "18     18     912  18_star_one_stars_two   \n",
       "19     19     908  19_star_one_stars_two   \n",
       "20     20     906  20_star_one_stars_two   \n",
       "21     21     903  21_star_one_stars_two   \n",
       "22     22     898  22_star_one_stars_two   \n",
       "23     23     895  23_star_one_stars_two   \n",
       "24     24     886  24_star_one_stars_two   \n",
       "25     25     884  25_star_one_stars_two   \n",
       "26     26     880  26_star_one_stars_two   \n",
       "27     27     878  27_star_one_stars_two   \n",
       "28     28     867  28_star_one_stars_two   \n",
       "29     29     204  29_star_one_stars_two   \n",
       "\n",
       "                                                  Representation  \\\n",
       "0                 [the, it, to, and, not, this, is, of, for, my]   \n",
       "1         [star, one, stars, two, not, it, very, to, the, wrong]   \n",
       "2         [star, one, stars, two, not, to, it, very, too, wrong]   \n",
       "3          [star, one, stars, two, it, not, very, to, bad, good]   \n",
       "4      [star, one, stars, two, not, it, quality, very, to, poor]   \n",
       "5         [star, one, stars, two, not, wrong, very, it, to, the]   \n",
       "6         [star, one, stars, two, very, not, it, wrong, too, to]   \n",
       "7       [star, one, stars, two, not, it, very, to, wrong, small]   \n",
       "8           [star, one, stars, two, not, very, it, bad, to, the]   \n",
       "9          [star, one, stars, two, not, it, very, good, bad, to]   \n",
       "10    [star, one, stars, two, it, not, to, very, product, wrong]   \n",
       "11      [star, one, stars, two, not, very, it, to, bad, quality]   \n",
       "12          [star, one, stars, two, not, it, very, to, was, too]   \n",
       "13           [star, one, stars, two, not, it, very, to, the, is]   \n",
       "14        [star, one, stars, two, not, too, it, to, wrong, very]   \n",
       "15     [star, one, stars, two, very, not, it, wrong, broken, to]   \n",
       "16        [star, one, stars, two, not, very, to, it, poor, good]   \n",
       "17           [star, one, stars, two, it, very, not, to, bad, is]   \n",
       "18    [star, one, stars, two, not, very, it, small, to, quality]   \n",
       "19          [star, one, stars, two, not, very, it, to, is, good]   \n",
       "20       [star, one, stars, two, it, very, not, to, broken, too]   \n",
       "21          [star, one, stars, two, it, not, very, to, was, the]   \n",
       "22    [star, one, stars, two, not, it, very, quality, too, good]   \n",
       "23       [star, one, stars, two, not, it, very, to, broken, the]   \n",
       "24    [star, one, stars, two, not, it, very, quality, wrong, to]   \n",
       "25         [star, one, stars, two, it, not, very, to, the, hard]   \n",
       "26    [star, one, stars, two, not, it, wrong, to, very, quality]   \n",
       "27       [star, one, stars, two, it, not, very, poor, wrong, to]   \n",
       "28     [star, one, stars, two, not, very, it, broken, wrong, to]   \n",
       "29  [star, one, stars, two, broken, quality, it, very, was, bad]   \n",
       "\n",
       "                                                                                                                                                                                                                                                                                                                                                                                                                                                                                                                                                                                                                                                                                                                                                                                                                                                                                                                                                                                                                                                                                                                                                                                                                                                                                                                                                                                                                                                                                                                                                                                                                                   Representative_Docs  \n",
       "0   [All broken after a month of use. So disappointed, out of the 6 pack we have only  1 left in less than 60 days. The charging port snapped off on all of them. The one I pictured was after 1 week use. I unplugged my iPhone and it just fell off. No way to contact seller, so its a big waste of money., Useless. You can do the same things without the firestick you can with it. Literally a useless product. Bought it thinking it an alternative to cable and satellite. Turns out you still have to pay for cable. It does nothing for me and I regret purchasing it. A waste of money and time. They advertise something that does nothing your smart tv can't do without it. Save yourself the money. Amazon sucks. I'm discontinuing my prime account as well. Second time I've been disappointed by Amazon this month. They don't give you refunds but after 1-2 weeks. Well Amazon you can't have anymore of my Money, Absolutely awful look at pics and read review. First off they sent me instructions for installing a screen on a cell phone (shown in picture) and I dont think that was a mistake that is just all they send. There are no sticker pull tabs to help with installation. It says just drop it on. Once dropped on bubbles everywhere and as you can see in the picture impossible to get them all the way out. They dont even send a squeegee you have to hack up the box with a knife and use that. Its not even close to being tempered glass as advertised. 1,000% plastic. And the touchscreen feature barely works with it on also opposite of whats advertised. Do yourself a favor and do not buy this!]  \n",
       "1                                                                                                                                                                                                                                                                                                                                                                                                                                                                                                                                                                                                                                                                                                                                                                                                                                                                                                                                                                                                                                                                                                                                                                                                                                                                                                                                                                                                                                                                                                                                                                                              [One Star. Terrible, One Star. bad, One Star. Terrible]  \n",
       "2                                                                                                                                                                                                                                                                                                                                                                                                                                                                                                                                                                                                                                                                                                                                                                                                                                                                                                                                                                                                                                                                                                                                                                                                                                                                                                                                                                                                                                                                                                                                                                                               [One Star. Terrible, One Star. bad, One Star. T.T bad]  \n",
       "3                                                                                                                                                                                                                                                                                                                                                                                                                                                                                                                                                                                                                                                                                                                                                                                                                                                                                                                                                                                                                                                                                                                                                                                                                                                                                                                                                                                                                                                                                                                                                                                      [One Star. Very disappointed, One Star. bad!!!!, One Star. bad]  \n",
       "4                                                                                                                                                                                                                                                                                                                                                                                                                                                                                                                                                                                                                                                                                                                                                                                                                                                                                                                                                                                                                                                                                                                                                                                                                                                                                                                                                                                                                                                                                                                                                                                             [One Star. Terrible!, One Star. bad, One Star. very bad]  \n",
       "5                                                                                                                                                                                                                                                                                                                                                                                                                                                                                                                                                                                                                                                                                                                                                                                                                                                                                                                                                                                                                                                                                                                                                                                                                                                                                                                                                                                                                                                                                                                                                                                                [One Star. poor, One Star. Poor!, One Star. Very bad]  \n",
       "6                                                                                                                                                                                                                                                                                                                                                                                                                                                                                                                                                                                                                                                                                                                                                                                                                                                                                                                                                                                                                                                                                                                                                                                                                                                                                                                                                                                                                                                                                                                                                                                          [One Star. bad quality., One Star. Terrible, One Star. bad]  \n",
       "7                                                                                                                                                                                                                                                                                                                                                                                                                                                                                                                                                                                                                                                                                                                                                                                                                                                                                                                                                                                                                                                                                                                                                                                                                                                                                                                                                                                                                                                                                                                                                                                [One Star. bad product!!!!!!!, One Star. Disappointed, One Star. bad]  \n",
       "8                                                                                                                                                                                                                                                                                                                                                                                                                                                                                                                                                                                                                                                                                                                                                                                                                                                                                                                                                                                                                                                                                                                                                                                                                                                                                                                                                                                                                                                                                                                                                                                         [One Star. Very bad, One Star. Terrible, One Star. It's bad]  \n",
       "9                                                                                                                                                                                                                                                                                                                                                                                                                                                                                                                                                                                                                                                                                                                                                                                                                                                                                                                                                                                                                                                                                                                                                                                                                                                                                                                                                                                                                                                                                                                                                                                           [One Star. Bad product., One Star. bad one, One Star. bad]  \n",
       "10                                                                                                                                                                                                                                                                                                                                                                                                                                                                                                                                                                                                                                                                                                                                                                                                                                                                                                                                                                                                                                                                                                                                                                                                                                                                                                                                                                                                                                                                                                                                                                                        [One Star. Very bad, One Star. It's very bad, One Star. bad]  \n",
       "11                                                                                                                                                                                                                                                                                                                                                                                                                                                                                                                                                                                                                                                                                                                                                                                                                                                                                                                                                                                                                                                                                                                                                                                                                                                                                                                                                                                                                                                                                                                                                                                            [One Star. Terrible!, One Star. bad, One Star. Very bad]  \n",
       "12                                                                                                                                                                                                                                                                                                                                                                                                                                                                                                                                                                                                                                                                                                                                                                                                                                                                                                                                                                                                                                                                                                                                                                                                                                                                                                                                                                                                                                                                                                                                                                                      [One Star. it was bad, One Star. Disappointed!, One Star. bad]  \n",
       "13                                                                                                                                                                                                                                                                                                                                                                                                                                                                                                                                                                                                                                                                                                                                                                                                                                                                                                                                                                                                                                                                                                                                                                                                                                                                                                                                                                                                                                                                                                                                                                                   [One Star. Horrible, One Star. Horrible, One Star. it's terrible]  \n",
       "14                                                                                                                                                                                                                                                                                                                                                                                                                                                                                                                                                                                                                                                                                                                                                                                                                                                                                                                                                                                                                                                                                                                                                                                                                                                                                                                                                                                                                                                                                                                                                                                                     [One Star. bad, One Star. bad.., One Star. bad]  \n",
       "15                                                                                                                                                                                                                                                                                                                                                                                                                                                                                                                                                                                                                                                                                                                                                                                                                                                                                                                                                                                                                                                                                                                                                                                                                                                                                                                                                                                                                                                                                                                                                                                       [One Star. terrible, One Star. Terrible., One Star. It's bad]  \n",
       "16                                                                                                                                                                                                                                                                                                                                                                                                                                                                                                                                                                                                                                                                                                                                                                                                                                                                                                                                                                                                                                                                                                                                                                                                                                                                                                                                                                                                                                                                                                                                                                                                [One Star. It is bad., One Star. bad, One Star. bad]  \n",
       "17                                                                                                                                                                                                                                                                                                                                                                                                                                                                                                                                                                                                                                                                                                                                                                                                                                                                                                                                                                                                                                                                                                                                                                                                                                                                                                                                                                                                                                                                                                                                                                                 [One Star. horrible, One Star. horrible, One Star. It was very bad]  \n",
       "18                                                                                                                                                                                                                                                                                                                                                                                                                                                                                                                                                                                                                                                                                                                                                                                                                                                                                                                                                                                                                                                                                                                                                                                                                                                                                                                                                                                                                                                                                                                                                                                      [One Star. Horrible, One Star. Terrible, One Star. Horrible !]  \n",
       "19                                                                                                                                                                                                                                                                                                                                                                                                                                                                                                                                                                                                                                                                                                                                                                                                                                                                                                                                                                                                                                                                                                                                                                                                                                                                                                                                                                                                                                                                                                                                                                                             [One Star. Terrible, One Star. Very bad, One Star. bad]  \n",
       "20                                                                                                                                                                                                                                                                                                                                                                                                                                                                                                                                                                                                                                                                                                                                                                                                                                                                                                                                                                                                                                                                                                                                                                                                                                                                                                                                                                                                                                                                                                                                                                                         [One Star. bad quality, One Star. poor, One Star. Very bad]  \n",
       "21                                                                                                                                                                                                                                                                                                                                                                                                                                                                                                                                                                                                                                                                                                                                                                                                                                                                                                                                                                                                                                                                                                                                                                                                                                                                                                                                                                                                                                                                                                                                                                                 [One Star. Very disappointed :(, One Star. Very bad, One Star. bad]  \n",
       "22                                                                                                                                                                                                                                                                                                                                                                                                                                                                                                                                                                                                                                                                                                                                                                                                                                                                                                                                                                                                                                                                                                                                                                                                                                                                                                                                                                                                                                                                                                                                                                                    [One Star. Bad work, One Star. Very disappointed, One Star. bad]  \n",
       "23                                                                                                                                                                                                                                                                                                                                                                                                                                                                                                                                                                                                                                                                                                                                                                                                                                                                                                                                                                                                                                                                                                                                                                                                                                                                                                                                                                                                                                                                                                                                                                            [One Star. Very disappointed, One Star. terrible, One Star. Terrible...]  \n",
       "24                                                                                                                                                                                                                                                                                                                                                                                                                                                                                                                                                                                                                                                                                                                                                                                                                                                                                                                                                                                                                                                                                                                                                                                                                                                                                                                                                                                                                                                                                                                                                                                                  [One Star. Very bad, One Star. bad, One Star. bad]  \n",
       "25                                                                                                                                                                                                                                                                                                                                                                                                                                                                                                                                                                                                                                                                                                                                                                                                                                                                                                                                                                                                                                                                                                                                                                                                                                                                                                                                                                                                                                                                                                                                                                                  [One Star. Bad Quality, One Star. Bad quality, One Star. very bad]  \n",
       "26                                                                                                                                                                                                                                                                                                                                                                                                                                                                                                                                                                                                                                                                                                                                                                                                                                                                                                                                                                                                                                                                                                                                                                                                                                                                                                                                                                                                                                                                                                                                                                                [One Star. Terrible product., One Star. Bad quality!, One Star. bad]  \n",
       "27                                                                                                                                                                                                                                                                                                                                                                                                                                                                                                                                                                                                                                                                                                                                                                                                                                                                                                                                                                                                                                                                                                                                                                                                                                                                                                                                                                                                                                                                                                                                                                                                       [One Star. bad, One Star. bad, One Star. bad]  \n",
       "28                                                                                                                                                                                                                                                                                                                                                                                                                                                                                                                                                                                                                                                                                                                                                                                                                                                                                                                                                                                                                                                                                                                                                                                                                                                                                                                                                                                                                                                                                                                                                                                                       [One Star. bad, One Star. bad, One Star. bad]  \n",
       "29                                                                                                                                                                                                                                                                                                                                                                                                                                                                                                                                                                                                                                                                                                                                                                                                                                                                                                                                                                                                                                                                                                                                                                                                                                                                                                                                                                                                                                                                                                                                                                                         [One Star. Horrible!, One Star. bad, One Star. Bad product]  "
      ]
     },
     "execution_count": 58,
     "metadata": {},
     "output_type": "execute_result"
    }
   ],
   "source": [
    "merged_model.get_topic_info()"
   ]
  },
  {
   "cell_type": "markdown",
   "metadata": {},
   "source": [
    "# Predictions"
   ]
  },
  {
   "cell_type": "markdown",
   "metadata": {},
   "source": [
    "Prediction will be made using the average embedding of product reviews since it is desired to find the characteristics of a product and not just a single review.\n",
    "\n",
    "Embedding will be normalized so each review will contribute equally to the average. Without normalization reviews with higher length will contribute more."
   ]
  },
  {
   "cell_type": "code",
   "execution_count": null,
   "metadata": {},
   "outputs": [],
   "source": [
    "def calc_mean_embedding(embedding_list):\n",
    "    return np.mean(embedding_list, axis=0)\n",
    "\n",
    "def find_closest_embedding(first_embeddings, topic_embeddings):\n",
    "    similarities = cosine_similarity([first_embeddings], topic_embeddings)\n",
    "    closest_topic = np.argmax(similarities)\n",
    "    return closest_topic\n",
    "\n",
    "\n",
    "def find_top_topics(first_embeddings, topic_embeddings, n=3):\n",
    "    similarities = cosine_similarity([first_embeddings], topic_embeddings)\n",
    "    top_topics = np.argpartition(similarities[0], -n)[-n:]\n",
    "    return top_topics.tolist()\n",
    "\n",
    "topic_embeddings = merged_model.topic_embeddings_\n",
    "\n",
    "df['embeddings'] = list(embeddings)\n",
    "df_grouped = df[['parent_asin', 'embeddings']].groupby('parent_asin').agg(calc_mean_embedding).reset_index()\n",
    "\n",
    "df_grouped['product_topics'] = df_grouped['embeddings'].swifter.apply(lambda emb: find_closest_embedding(emb, topic_embeddings))"
   ]
  },
  {
   "cell_type": "code",
   "execution_count": null,
   "metadata": {},
   "outputs": [],
   "source": [
    "top_words = []\n",
    "for i in topic_model.topic_representations_[0]:\n",
    "    top_words.append(i[0])\n",
    "\n",
    "print(\"The top words that describes the negatives reviews are:\")\n",
    "for i in range(0,len(top_words)):\n",
    "    print(top_words[i])"
   ]
  }
 ],
 "metadata": {
  "kernelspec": {
   "display_name": "topic_modelling_reviews",
   "language": "python",
   "name": "python3"
  },
  "language_info": {
   "codemirror_mode": {
    "name": "ipython",
    "version": 3
   },
   "file_extension": ".py",
   "mimetype": "text/x-python",
   "name": "python",
   "nbconvert_exporter": "python",
   "pygments_lexer": "ipython3",
   "version": "3.10.0"
  }
 },
 "nbformat": 4,
 "nbformat_minor": 2
}
